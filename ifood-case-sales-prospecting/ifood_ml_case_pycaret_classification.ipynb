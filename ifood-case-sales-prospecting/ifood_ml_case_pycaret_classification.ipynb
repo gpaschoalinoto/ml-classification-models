{
  "cells": [
    {
      "cell_type": "markdown",
      "metadata": {
        "id": "DtmJlDZBcD6z"
      },
      "source": [
        "# Install and Import Dependencies"
      ]
    },
    {
      "cell_type": "code",
      "execution_count": 1,
      "metadata": {
        "id": "RYJUL31pjquV"
      },
      "outputs": [],
      "source": [
        "#!pip install pycaret==3.3.2 -q"
      ]
    },
    {
      "cell_type": "code",
      "execution_count": 2,
      "metadata": {
        "id": "6CQ7HrqHMLh6"
      },
      "outputs": [],
      "source": [
        "import numpy as np\n",
        "import pandas as pd\n",
        "import matplotlib.pyplot as plt\n",
        "import seaborn as sns\n",
        "\n",
        "from sklearn.preprocessing import LabelEncoder\n",
        "from sklearn.metrics import classification_report\n",
        "\n",
        "from pycaret.classification import *\n",
        "\n",
        "pd.set_option('display.max_columns', None)\n",
        "pd.set_option('display.max_colwidth', 1000)\n",
        "%matplotlib inline"
      ]
    },
    {
      "cell_type": "markdown",
      "metadata": {
        "id": "t3y-myq5MLiA"
      },
      "source": [
        "# Load Data"
      ]
    },
    {
      "cell_type": "code",
      "execution_count": 3,
      "metadata": {
        "colab": {
          "base_uri": "https://localhost:8080/"
        },
        "id": "G8utR6jqMLiB",
        "outputId": "61fc630d-d02d-4593-a564-44e5737666f5"
      },
      "outputs": [
        {
          "data": {
            "text/plain": [
              "(2240, 29)"
            ]
          },
          "execution_count": 3,
          "metadata": {},
          "output_type": "execute_result"
        }
      ],
      "source": [
        "df = pd.read_csv('../ifood-case-sales-prospecting/dataset/data.csv', encoding= 'utf-8')\n",
        "df.shape"
      ]
    },
    {
      "cell_type": "markdown",
      "metadata": {
        "id": "pw_lnN9wpzEQ"
      },
      "source": [
        "# Descriptive Analysis"
      ]
    },
    {
      "cell_type": "code",
      "execution_count": 4,
      "metadata": {
        "colab": {
          "base_uri": "https://localhost:8080/",
          "height": 226
        },
        "id": "2p4a1Q1yphu2",
        "outputId": "6ed17eea-524f-4447-ff49-b4f4f66b207f"
      },
      "outputs": [
        {
          "data": {
            "text/html": [
              "<div>\n",
              "<style scoped>\n",
              "    .dataframe tbody tr th:only-of-type {\n",
              "        vertical-align: middle;\n",
              "    }\n",
              "\n",
              "    .dataframe tbody tr th {\n",
              "        vertical-align: top;\n",
              "    }\n",
              "\n",
              "    .dataframe thead th {\n",
              "        text-align: right;\n",
              "    }\n",
              "</style>\n",
              "<table border=\"1\" class=\"dataframe\">\n",
              "  <thead>\n",
              "    <tr style=\"text-align: right;\">\n",
              "      <th></th>\n",
              "      <th>ID</th>\n",
              "      <th>Year_Birth</th>\n",
              "      <th>Education</th>\n",
              "      <th>Marital_Status</th>\n",
              "      <th>Income</th>\n",
              "      <th>Kidhome</th>\n",
              "      <th>Teenhome</th>\n",
              "      <th>Dt_Customer</th>\n",
              "      <th>Recency</th>\n",
              "      <th>MntWines</th>\n",
              "      <th>MntFruits</th>\n",
              "      <th>MntMeatProducts</th>\n",
              "      <th>MntFishProducts</th>\n",
              "      <th>MntSweetProducts</th>\n",
              "      <th>MntGoldProds</th>\n",
              "      <th>NumDealsPurchases</th>\n",
              "      <th>NumWebPurchases</th>\n",
              "      <th>NumCatalogPurchases</th>\n",
              "      <th>NumStorePurchases</th>\n",
              "      <th>NumWebVisitsMonth</th>\n",
              "      <th>AcceptedCmp3</th>\n",
              "      <th>AcceptedCmp4</th>\n",
              "      <th>AcceptedCmp5</th>\n",
              "      <th>AcceptedCmp1</th>\n",
              "      <th>AcceptedCmp2</th>\n",
              "      <th>Complain</th>\n",
              "      <th>Z_CostContact</th>\n",
              "      <th>Z_Revenue</th>\n",
              "      <th>Response</th>\n",
              "    </tr>\n",
              "  </thead>\n",
              "  <tbody>\n",
              "    <tr>\n",
              "      <th>0</th>\n",
              "      <td>5524</td>\n",
              "      <td>1957</td>\n",
              "      <td>Graduation</td>\n",
              "      <td>Single</td>\n",
              "      <td>58138.0</td>\n",
              "      <td>0</td>\n",
              "      <td>0</td>\n",
              "      <td>2012-09-04</td>\n",
              "      <td>58</td>\n",
              "      <td>635</td>\n",
              "      <td>88</td>\n",
              "      <td>546</td>\n",
              "      <td>172</td>\n",
              "      <td>88</td>\n",
              "      <td>88</td>\n",
              "      <td>3</td>\n",
              "      <td>8</td>\n",
              "      <td>10</td>\n",
              "      <td>4</td>\n",
              "      <td>7</td>\n",
              "      <td>0</td>\n",
              "      <td>0</td>\n",
              "      <td>0</td>\n",
              "      <td>0</td>\n",
              "      <td>0</td>\n",
              "      <td>0</td>\n",
              "      <td>3</td>\n",
              "      <td>11</td>\n",
              "      <td>1</td>\n",
              "    </tr>\n",
              "    <tr>\n",
              "      <th>1</th>\n",
              "      <td>2174</td>\n",
              "      <td>1954</td>\n",
              "      <td>Graduation</td>\n",
              "      <td>Single</td>\n",
              "      <td>46344.0</td>\n",
              "      <td>1</td>\n",
              "      <td>1</td>\n",
              "      <td>2014-03-08</td>\n",
              "      <td>38</td>\n",
              "      <td>11</td>\n",
              "      <td>1</td>\n",
              "      <td>6</td>\n",
              "      <td>2</td>\n",
              "      <td>1</td>\n",
              "      <td>6</td>\n",
              "      <td>2</td>\n",
              "      <td>1</td>\n",
              "      <td>1</td>\n",
              "      <td>2</td>\n",
              "      <td>5</td>\n",
              "      <td>0</td>\n",
              "      <td>0</td>\n",
              "      <td>0</td>\n",
              "      <td>0</td>\n",
              "      <td>0</td>\n",
              "      <td>0</td>\n",
              "      <td>3</td>\n",
              "      <td>11</td>\n",
              "      <td>0</td>\n",
              "    </tr>\n",
              "    <tr>\n",
              "      <th>2</th>\n",
              "      <td>4141</td>\n",
              "      <td>1965</td>\n",
              "      <td>Graduation</td>\n",
              "      <td>Together</td>\n",
              "      <td>71613.0</td>\n",
              "      <td>0</td>\n",
              "      <td>0</td>\n",
              "      <td>2013-08-21</td>\n",
              "      <td>26</td>\n",
              "      <td>426</td>\n",
              "      <td>49</td>\n",
              "      <td>127</td>\n",
              "      <td>111</td>\n",
              "      <td>21</td>\n",
              "      <td>42</td>\n",
              "      <td>1</td>\n",
              "      <td>8</td>\n",
              "      <td>2</td>\n",
              "      <td>10</td>\n",
              "      <td>4</td>\n",
              "      <td>0</td>\n",
              "      <td>0</td>\n",
              "      <td>0</td>\n",
              "      <td>0</td>\n",
              "      <td>0</td>\n",
              "      <td>0</td>\n",
              "      <td>3</td>\n",
              "      <td>11</td>\n",
              "      <td>0</td>\n",
              "    </tr>\n",
              "    <tr>\n",
              "      <th>3</th>\n",
              "      <td>6182</td>\n",
              "      <td>1984</td>\n",
              "      <td>Graduation</td>\n",
              "      <td>Together</td>\n",
              "      <td>26646.0</td>\n",
              "      <td>1</td>\n",
              "      <td>0</td>\n",
              "      <td>2014-02-10</td>\n",
              "      <td>26</td>\n",
              "      <td>11</td>\n",
              "      <td>4</td>\n",
              "      <td>20</td>\n",
              "      <td>10</td>\n",
              "      <td>3</td>\n",
              "      <td>5</td>\n",
              "      <td>2</td>\n",
              "      <td>2</td>\n",
              "      <td>0</td>\n",
              "      <td>4</td>\n",
              "      <td>6</td>\n",
              "      <td>0</td>\n",
              "      <td>0</td>\n",
              "      <td>0</td>\n",
              "      <td>0</td>\n",
              "      <td>0</td>\n",
              "      <td>0</td>\n",
              "      <td>3</td>\n",
              "      <td>11</td>\n",
              "      <td>0</td>\n",
              "    </tr>\n",
              "    <tr>\n",
              "      <th>4</th>\n",
              "      <td>5324</td>\n",
              "      <td>1981</td>\n",
              "      <td>PhD</td>\n",
              "      <td>Married</td>\n",
              "      <td>58293.0</td>\n",
              "      <td>1</td>\n",
              "      <td>0</td>\n",
              "      <td>2014-01-19</td>\n",
              "      <td>94</td>\n",
              "      <td>173</td>\n",
              "      <td>43</td>\n",
              "      <td>118</td>\n",
              "      <td>46</td>\n",
              "      <td>27</td>\n",
              "      <td>15</td>\n",
              "      <td>5</td>\n",
              "      <td>5</td>\n",
              "      <td>3</td>\n",
              "      <td>6</td>\n",
              "      <td>5</td>\n",
              "      <td>0</td>\n",
              "      <td>0</td>\n",
              "      <td>0</td>\n",
              "      <td>0</td>\n",
              "      <td>0</td>\n",
              "      <td>0</td>\n",
              "      <td>3</td>\n",
              "      <td>11</td>\n",
              "      <td>0</td>\n",
              "    </tr>\n",
              "  </tbody>\n",
              "</table>\n",
              "</div>"
            ],
            "text/plain": [
              "     ID  Year_Birth   Education Marital_Status   Income  Kidhome  Teenhome  \\\n",
              "0  5524        1957  Graduation         Single  58138.0        0         0   \n",
              "1  2174        1954  Graduation         Single  46344.0        1         1   \n",
              "2  4141        1965  Graduation       Together  71613.0        0         0   \n",
              "3  6182        1984  Graduation       Together  26646.0        1         0   \n",
              "4  5324        1981         PhD        Married  58293.0        1         0   \n",
              "\n",
              "  Dt_Customer  Recency  MntWines  MntFruits  MntMeatProducts  MntFishProducts  \\\n",
              "0  2012-09-04       58       635         88              546              172   \n",
              "1  2014-03-08       38        11          1                6                2   \n",
              "2  2013-08-21       26       426         49              127              111   \n",
              "3  2014-02-10       26        11          4               20               10   \n",
              "4  2014-01-19       94       173         43              118               46   \n",
              "\n",
              "   MntSweetProducts  MntGoldProds  NumDealsPurchases  NumWebPurchases  \\\n",
              "0                88            88                  3                8   \n",
              "1                 1             6                  2                1   \n",
              "2                21            42                  1                8   \n",
              "3                 3             5                  2                2   \n",
              "4                27            15                  5                5   \n",
              "\n",
              "   NumCatalogPurchases  NumStorePurchases  NumWebVisitsMonth  AcceptedCmp3  \\\n",
              "0                   10                  4                  7             0   \n",
              "1                    1                  2                  5             0   \n",
              "2                    2                 10                  4             0   \n",
              "3                    0                  4                  6             0   \n",
              "4                    3                  6                  5             0   \n",
              "\n",
              "   AcceptedCmp4  AcceptedCmp5  AcceptedCmp1  AcceptedCmp2  Complain  \\\n",
              "0             0             0             0             0         0   \n",
              "1             0             0             0             0         0   \n",
              "2             0             0             0             0         0   \n",
              "3             0             0             0             0         0   \n",
              "4             0             0             0             0         0   \n",
              "\n",
              "   Z_CostContact  Z_Revenue  Response  \n",
              "0              3         11         1  \n",
              "1              3         11         0  \n",
              "2              3         11         0  \n",
              "3              3         11         0  \n",
              "4              3         11         0  "
            ]
          },
          "execution_count": 4,
          "metadata": {},
          "output_type": "execute_result"
        }
      ],
      "source": [
        "df.head()"
      ]
    },
    {
      "cell_type": "code",
      "execution_count": 5,
      "metadata": {
        "colab": {
          "base_uri": "https://localhost:8080/"
        },
        "id": "4jH_hlR5zipa",
        "outputId": "a140238c-3ff3-4082-d275-3636f369e0f4"
      },
      "outputs": [
        {
          "data": {
            "text/plain": [
              "ID                              Int64\n",
              "Year_Birth                      Int64\n",
              "Education                      string\n",
              "Marital_Status                 string\n",
              "Income                          Int64\n",
              "Kidhome                         Int64\n",
              "Teenhome                        Int64\n",
              "Dt_Customer            datetime64[ns]\n",
              "Recency                         Int64\n",
              "MntWines                        Int64\n",
              "MntFruits                       Int64\n",
              "MntMeatProducts                 Int64\n",
              "MntFishProducts                 Int64\n",
              "MntSweetProducts                Int64\n",
              "MntGoldProds                    Int64\n",
              "NumDealsPurchases               Int64\n",
              "NumWebPurchases                 Int64\n",
              "NumCatalogPurchases             Int64\n",
              "NumStorePurchases               Int64\n",
              "NumWebVisitsMonth               Int64\n",
              "AcceptedCmp3                    Int64\n",
              "AcceptedCmp4                    Int64\n",
              "AcceptedCmp5                    Int64\n",
              "AcceptedCmp1                    Int64\n",
              "AcceptedCmp2                    Int64\n",
              "Complain                        Int64\n",
              "Z_CostContact                   Int64\n",
              "Z_Revenue                       Int64\n",
              "Response                        Int64\n",
              "dtype: object"
            ]
          },
          "execution_count": 5,
          "metadata": {},
          "output_type": "execute_result"
        }
      ],
      "source": [
        "df = df.convert_dtypes()\n",
        "df.Dt_Customer = pd.to_datetime(df['Dt_Customer'])\n",
        "df.dtypes"
      ]
    },
    {
      "cell_type": "markdown",
      "metadata": {
        "id": "8krftzqa0yHY"
      },
      "source": [
        "## Numerical features"
      ]
    },
    {
      "cell_type": "code",
      "execution_count": 6,
      "metadata": {
        "colab": {
          "base_uri": "https://localhost:8080/",
          "height": 864
        },
        "id": "XIQUPmMWyQoH",
        "outputId": "6e3afba3-e44c-4793-fc9c-9f0078caea4b"
      },
      "outputs": [
        {
          "data": {
            "text/html": [
              "<div>\n",
              "<style scoped>\n",
              "    .dataframe tbody tr th:only-of-type {\n",
              "        vertical-align: middle;\n",
              "    }\n",
              "\n",
              "    .dataframe tbody tr th {\n",
              "        vertical-align: top;\n",
              "    }\n",
              "\n",
              "    .dataframe thead th {\n",
              "        text-align: right;\n",
              "    }\n",
              "</style>\n",
              "<table border=\"1\" class=\"dataframe\">\n",
              "  <thead>\n",
              "    <tr style=\"text-align: right;\">\n",
              "      <th></th>\n",
              "      <th>count</th>\n",
              "      <th>mean</th>\n",
              "      <th>std</th>\n",
              "      <th>min</th>\n",
              "      <th>25%</th>\n",
              "      <th>50%</th>\n",
              "      <th>75%</th>\n",
              "      <th>max</th>\n",
              "    </tr>\n",
              "  </thead>\n",
              "  <tbody>\n",
              "    <tr>\n",
              "      <th>ID</th>\n",
              "      <td>2240.0</td>\n",
              "      <td>5592.159821</td>\n",
              "      <td>3246.662198</td>\n",
              "      <td>0.0</td>\n",
              "      <td>2828.25</td>\n",
              "      <td>5458.5</td>\n",
              "      <td>8427.75</td>\n",
              "      <td>11191.0</td>\n",
              "    </tr>\n",
              "    <tr>\n",
              "      <th>Year_Birth</th>\n",
              "      <td>2240.0</td>\n",
              "      <td>1968.805804</td>\n",
              "      <td>11.984069</td>\n",
              "      <td>1893.0</td>\n",
              "      <td>1959.0</td>\n",
              "      <td>1970.0</td>\n",
              "      <td>1977.0</td>\n",
              "      <td>1996.0</td>\n",
              "    </tr>\n",
              "    <tr>\n",
              "      <th>Income</th>\n",
              "      <td>2216.0</td>\n",
              "      <td>52247.251354</td>\n",
              "      <td>25173.076661</td>\n",
              "      <td>1730.0</td>\n",
              "      <td>35303.0</td>\n",
              "      <td>51381.5</td>\n",
              "      <td>68522.0</td>\n",
              "      <td>666666.0</td>\n",
              "    </tr>\n",
              "    <tr>\n",
              "      <th>Kidhome</th>\n",
              "      <td>2240.0</td>\n",
              "      <td>0.444196</td>\n",
              "      <td>0.538398</td>\n",
              "      <td>0.0</td>\n",
              "      <td>0.0</td>\n",
              "      <td>0.0</td>\n",
              "      <td>1.0</td>\n",
              "      <td>2.0</td>\n",
              "    </tr>\n",
              "    <tr>\n",
              "      <th>Teenhome</th>\n",
              "      <td>2240.0</td>\n",
              "      <td>0.50625</td>\n",
              "      <td>0.544538</td>\n",
              "      <td>0.0</td>\n",
              "      <td>0.0</td>\n",
              "      <td>0.0</td>\n",
              "      <td>1.0</td>\n",
              "      <td>2.0</td>\n",
              "    </tr>\n",
              "    <tr>\n",
              "      <th>Recency</th>\n",
              "      <td>2240.0</td>\n",
              "      <td>49.109375</td>\n",
              "      <td>28.962453</td>\n",
              "      <td>0.0</td>\n",
              "      <td>24.0</td>\n",
              "      <td>49.0</td>\n",
              "      <td>74.0</td>\n",
              "      <td>99.0</td>\n",
              "    </tr>\n",
              "    <tr>\n",
              "      <th>MntWines</th>\n",
              "      <td>2240.0</td>\n",
              "      <td>303.935714</td>\n",
              "      <td>336.597393</td>\n",
              "      <td>0.0</td>\n",
              "      <td>23.75</td>\n",
              "      <td>173.5</td>\n",
              "      <td>504.25</td>\n",
              "      <td>1493.0</td>\n",
              "    </tr>\n",
              "    <tr>\n",
              "      <th>MntFruits</th>\n",
              "      <td>2240.0</td>\n",
              "      <td>26.302232</td>\n",
              "      <td>39.773434</td>\n",
              "      <td>0.0</td>\n",
              "      <td>1.0</td>\n",
              "      <td>8.0</td>\n",
              "      <td>33.0</td>\n",
              "      <td>199.0</td>\n",
              "    </tr>\n",
              "    <tr>\n",
              "      <th>MntMeatProducts</th>\n",
              "      <td>2240.0</td>\n",
              "      <td>166.95</td>\n",
              "      <td>225.715373</td>\n",
              "      <td>0.0</td>\n",
              "      <td>16.0</td>\n",
              "      <td>67.0</td>\n",
              "      <td>232.0</td>\n",
              "      <td>1725.0</td>\n",
              "    </tr>\n",
              "    <tr>\n",
              "      <th>MntFishProducts</th>\n",
              "      <td>2240.0</td>\n",
              "      <td>37.525446</td>\n",
              "      <td>54.628979</td>\n",
              "      <td>0.0</td>\n",
              "      <td>3.0</td>\n",
              "      <td>12.0</td>\n",
              "      <td>50.0</td>\n",
              "      <td>259.0</td>\n",
              "    </tr>\n",
              "    <tr>\n",
              "      <th>MntSweetProducts</th>\n",
              "      <td>2240.0</td>\n",
              "      <td>27.062946</td>\n",
              "      <td>41.280498</td>\n",
              "      <td>0.0</td>\n",
              "      <td>1.0</td>\n",
              "      <td>8.0</td>\n",
              "      <td>33.0</td>\n",
              "      <td>263.0</td>\n",
              "    </tr>\n",
              "    <tr>\n",
              "      <th>MntGoldProds</th>\n",
              "      <td>2240.0</td>\n",
              "      <td>44.021875</td>\n",
              "      <td>52.167439</td>\n",
              "      <td>0.0</td>\n",
              "      <td>9.0</td>\n",
              "      <td>24.0</td>\n",
              "      <td>56.0</td>\n",
              "      <td>362.0</td>\n",
              "    </tr>\n",
              "    <tr>\n",
              "      <th>NumDealsPurchases</th>\n",
              "      <td>2240.0</td>\n",
              "      <td>2.325</td>\n",
              "      <td>1.932238</td>\n",
              "      <td>0.0</td>\n",
              "      <td>1.0</td>\n",
              "      <td>2.0</td>\n",
              "      <td>3.0</td>\n",
              "      <td>15.0</td>\n",
              "    </tr>\n",
              "    <tr>\n",
              "      <th>NumWebPurchases</th>\n",
              "      <td>2240.0</td>\n",
              "      <td>4.084821</td>\n",
              "      <td>2.778714</td>\n",
              "      <td>0.0</td>\n",
              "      <td>2.0</td>\n",
              "      <td>4.0</td>\n",
              "      <td>6.0</td>\n",
              "      <td>27.0</td>\n",
              "    </tr>\n",
              "    <tr>\n",
              "      <th>NumCatalogPurchases</th>\n",
              "      <td>2240.0</td>\n",
              "      <td>2.662054</td>\n",
              "      <td>2.923101</td>\n",
              "      <td>0.0</td>\n",
              "      <td>0.0</td>\n",
              "      <td>2.0</td>\n",
              "      <td>4.0</td>\n",
              "      <td>28.0</td>\n",
              "    </tr>\n",
              "    <tr>\n",
              "      <th>NumStorePurchases</th>\n",
              "      <td>2240.0</td>\n",
              "      <td>5.790179</td>\n",
              "      <td>3.250958</td>\n",
              "      <td>0.0</td>\n",
              "      <td>3.0</td>\n",
              "      <td>5.0</td>\n",
              "      <td>8.0</td>\n",
              "      <td>13.0</td>\n",
              "    </tr>\n",
              "    <tr>\n",
              "      <th>NumWebVisitsMonth</th>\n",
              "      <td>2240.0</td>\n",
              "      <td>5.316518</td>\n",
              "      <td>2.426645</td>\n",
              "      <td>0.0</td>\n",
              "      <td>3.0</td>\n",
              "      <td>6.0</td>\n",
              "      <td>7.0</td>\n",
              "      <td>20.0</td>\n",
              "    </tr>\n",
              "    <tr>\n",
              "      <th>AcceptedCmp3</th>\n",
              "      <td>2240.0</td>\n",
              "      <td>0.072768</td>\n",
              "      <td>0.259813</td>\n",
              "      <td>0.0</td>\n",
              "      <td>0.0</td>\n",
              "      <td>0.0</td>\n",
              "      <td>0.0</td>\n",
              "      <td>1.0</td>\n",
              "    </tr>\n",
              "    <tr>\n",
              "      <th>AcceptedCmp4</th>\n",
              "      <td>2240.0</td>\n",
              "      <td>0.074554</td>\n",
              "      <td>0.262728</td>\n",
              "      <td>0.0</td>\n",
              "      <td>0.0</td>\n",
              "      <td>0.0</td>\n",
              "      <td>0.0</td>\n",
              "      <td>1.0</td>\n",
              "    </tr>\n",
              "    <tr>\n",
              "      <th>AcceptedCmp5</th>\n",
              "      <td>2240.0</td>\n",
              "      <td>0.072768</td>\n",
              "      <td>0.259813</td>\n",
              "      <td>0.0</td>\n",
              "      <td>0.0</td>\n",
              "      <td>0.0</td>\n",
              "      <td>0.0</td>\n",
              "      <td>1.0</td>\n",
              "    </tr>\n",
              "    <tr>\n",
              "      <th>AcceptedCmp1</th>\n",
              "      <td>2240.0</td>\n",
              "      <td>0.064286</td>\n",
              "      <td>0.245316</td>\n",
              "      <td>0.0</td>\n",
              "      <td>0.0</td>\n",
              "      <td>0.0</td>\n",
              "      <td>0.0</td>\n",
              "      <td>1.0</td>\n",
              "    </tr>\n",
              "    <tr>\n",
              "      <th>AcceptedCmp2</th>\n",
              "      <td>2240.0</td>\n",
              "      <td>0.013393</td>\n",
              "      <td>0.114976</td>\n",
              "      <td>0.0</td>\n",
              "      <td>0.0</td>\n",
              "      <td>0.0</td>\n",
              "      <td>0.0</td>\n",
              "      <td>1.0</td>\n",
              "    </tr>\n",
              "    <tr>\n",
              "      <th>Complain</th>\n",
              "      <td>2240.0</td>\n",
              "      <td>0.009375</td>\n",
              "      <td>0.096391</td>\n",
              "      <td>0.0</td>\n",
              "      <td>0.0</td>\n",
              "      <td>0.0</td>\n",
              "      <td>0.0</td>\n",
              "      <td>1.0</td>\n",
              "    </tr>\n",
              "    <tr>\n",
              "      <th>Z_CostContact</th>\n",
              "      <td>2240.0</td>\n",
              "      <td>3.0</td>\n",
              "      <td>0.0</td>\n",
              "      <td>3.0</td>\n",
              "      <td>3.0</td>\n",
              "      <td>3.0</td>\n",
              "      <td>3.0</td>\n",
              "      <td>3.0</td>\n",
              "    </tr>\n",
              "    <tr>\n",
              "      <th>Z_Revenue</th>\n",
              "      <td>2240.0</td>\n",
              "      <td>11.0</td>\n",
              "      <td>0.0</td>\n",
              "      <td>11.0</td>\n",
              "      <td>11.0</td>\n",
              "      <td>11.0</td>\n",
              "      <td>11.0</td>\n",
              "      <td>11.0</td>\n",
              "    </tr>\n",
              "    <tr>\n",
              "      <th>Response</th>\n",
              "      <td>2240.0</td>\n",
              "      <td>0.149107</td>\n",
              "      <td>0.356274</td>\n",
              "      <td>0.0</td>\n",
              "      <td>0.0</td>\n",
              "      <td>0.0</td>\n",
              "      <td>0.0</td>\n",
              "      <td>1.0</td>\n",
              "    </tr>\n",
              "  </tbody>\n",
              "</table>\n",
              "</div>"
            ],
            "text/plain": [
              "                      count          mean           std     min      25%  \\\n",
              "ID                   2240.0   5592.159821   3246.662198     0.0  2828.25   \n",
              "Year_Birth           2240.0   1968.805804     11.984069  1893.0   1959.0   \n",
              "Income               2216.0  52247.251354  25173.076661  1730.0  35303.0   \n",
              "Kidhome              2240.0      0.444196      0.538398     0.0      0.0   \n",
              "Teenhome             2240.0       0.50625      0.544538     0.0      0.0   \n",
              "Recency              2240.0     49.109375     28.962453     0.0     24.0   \n",
              "MntWines             2240.0    303.935714    336.597393     0.0    23.75   \n",
              "MntFruits            2240.0     26.302232     39.773434     0.0      1.0   \n",
              "MntMeatProducts      2240.0        166.95    225.715373     0.0     16.0   \n",
              "MntFishProducts      2240.0     37.525446     54.628979     0.0      3.0   \n",
              "MntSweetProducts     2240.0     27.062946     41.280498     0.0      1.0   \n",
              "MntGoldProds         2240.0     44.021875     52.167439     0.0      9.0   \n",
              "NumDealsPurchases    2240.0         2.325      1.932238     0.0      1.0   \n",
              "NumWebPurchases      2240.0      4.084821      2.778714     0.0      2.0   \n",
              "NumCatalogPurchases  2240.0      2.662054      2.923101     0.0      0.0   \n",
              "NumStorePurchases    2240.0      5.790179      3.250958     0.0      3.0   \n",
              "NumWebVisitsMonth    2240.0      5.316518      2.426645     0.0      3.0   \n",
              "AcceptedCmp3         2240.0      0.072768      0.259813     0.0      0.0   \n",
              "AcceptedCmp4         2240.0      0.074554      0.262728     0.0      0.0   \n",
              "AcceptedCmp5         2240.0      0.072768      0.259813     0.0      0.0   \n",
              "AcceptedCmp1         2240.0      0.064286      0.245316     0.0      0.0   \n",
              "AcceptedCmp2         2240.0      0.013393      0.114976     0.0      0.0   \n",
              "Complain             2240.0      0.009375      0.096391     0.0      0.0   \n",
              "Z_CostContact        2240.0           3.0           0.0     3.0      3.0   \n",
              "Z_Revenue            2240.0          11.0           0.0    11.0     11.0   \n",
              "Response             2240.0      0.149107      0.356274     0.0      0.0   \n",
              "\n",
              "                         50%      75%       max  \n",
              "ID                    5458.5  8427.75   11191.0  \n",
              "Year_Birth            1970.0   1977.0    1996.0  \n",
              "Income               51381.5  68522.0  666666.0  \n",
              "Kidhome                  0.0      1.0       2.0  \n",
              "Teenhome                 0.0      1.0       2.0  \n",
              "Recency                 49.0     74.0      99.0  \n",
              "MntWines               173.5   504.25    1493.0  \n",
              "MntFruits                8.0     33.0     199.0  \n",
              "MntMeatProducts         67.0    232.0    1725.0  \n",
              "MntFishProducts         12.0     50.0     259.0  \n",
              "MntSweetProducts         8.0     33.0     263.0  \n",
              "MntGoldProds            24.0     56.0     362.0  \n",
              "NumDealsPurchases        2.0      3.0      15.0  \n",
              "NumWebPurchases          4.0      6.0      27.0  \n",
              "NumCatalogPurchases      2.0      4.0      28.0  \n",
              "NumStorePurchases        5.0      8.0      13.0  \n",
              "NumWebVisitsMonth        6.0      7.0      20.0  \n",
              "AcceptedCmp3             0.0      0.0       1.0  \n",
              "AcceptedCmp4             0.0      0.0       1.0  \n",
              "AcceptedCmp5             0.0      0.0       1.0  \n",
              "AcceptedCmp1             0.0      0.0       1.0  \n",
              "AcceptedCmp2             0.0      0.0       1.0  \n",
              "Complain                 0.0      0.0       1.0  \n",
              "Z_CostContact            3.0      3.0       3.0  \n",
              "Z_Revenue               11.0     11.0      11.0  \n",
              "Response                 0.0      0.0       1.0  "
            ]
          },
          "execution_count": 6,
          "metadata": {},
          "output_type": "execute_result"
        }
      ],
      "source": [
        "df.describe().T"
      ]
    },
    {
      "cell_type": "markdown",
      "metadata": {
        "id": "-ynIZHHaBIP1"
      },
      "source": [
        "### Deleting ID column"
      ]
    },
    {
      "cell_type": "code",
      "execution_count": 7,
      "metadata": {
        "colab": {
          "base_uri": "https://localhost:8080/"
        },
        "id": "YooAFxpoqoMt",
        "outputId": "8810372e-1eec-4cb7-e6df-4e442cc20387"
      },
      "outputs": [
        {
          "data": {
            "text/plain": [
              "1993    10164\n",
              "182     10562\n",
              "2015     4102\n",
              "478      8970\n",
              "1414     2678\n",
              "1493     7250\n",
              "2037     5872\n",
              "1566     7476\n",
              "298      7119\n",
              "569      3525\n",
              "Name: ID, dtype: Int64"
            ]
          },
          "execution_count": 7,
          "metadata": {},
          "output_type": "execute_result"
        }
      ],
      "source": [
        "df['ID'].sample(10)"
      ]
    },
    {
      "cell_type": "code",
      "execution_count": 8,
      "metadata": {
        "colab": {
          "base_uri": "https://localhost:8080/"
        },
        "id": "GC5LgLOFQct6",
        "outputId": "8424919d-510b-4955-f133-4cb08dbb4314"
      },
      "outputs": [
        {
          "data": {
            "text/plain": [
              "(2240, 28)"
            ]
          },
          "execution_count": 8,
          "metadata": {},
          "output_type": "execute_result"
        }
      ],
      "source": [
        "df.drop('ID', axis= 1, inplace= True)\n",
        "df.shape"
      ]
    },
    {
      "cell_type": "markdown",
      "metadata": {
        "id": "oVfakwHgQeOe"
      },
      "source": [
        "Deleting the ID column above as it serves as an identifier code. The iFood Case does not provide other datasets for joining."
      ]
    },
    {
      "cell_type": "markdown",
      "metadata": {
        "id": "TBJGZx7xIO9N"
      },
      "source": [
        "## Deleting duplicated values"
      ]
    },
    {
      "cell_type": "code",
      "execution_count": 9,
      "metadata": {
        "colab": {
          "base_uri": "https://localhost:8080/"
        },
        "id": "rL440cpQMnlX",
        "outputId": "526fe37c-d2d3-4a05-9a0d-d3da650854d4"
      },
      "outputs": [
        {
          "name": "stdout",
          "output_type": "stream",
          "text": [
            "Total of duplicated values: 182\n"
          ]
        }
      ],
      "source": [
        "print('Total of duplicated values:', df[df.duplicated()].shape[0])"
      ]
    },
    {
      "cell_type": "markdown",
      "metadata": {
        "id": "ASa-ihB1NY9i"
      },
      "source": [
        "Sample of duplicated values out of a total of 182."
      ]
    },
    {
      "cell_type": "code",
      "execution_count": 10,
      "metadata": {
        "colab": {
          "base_uri": "https://localhost:8080/",
          "height": 101
        },
        "id": "XogoqOQoJjlq",
        "outputId": "6c4d0600-bcac-45c5-e783-d85fa1d48783"
      },
      "outputs": [
        {
          "data": {
            "text/html": [
              "<div>\n",
              "<style scoped>\n",
              "    .dataframe tbody tr th:only-of-type {\n",
              "        vertical-align: middle;\n",
              "    }\n",
              "\n",
              "    .dataframe tbody tr th {\n",
              "        vertical-align: top;\n",
              "    }\n",
              "\n",
              "    .dataframe thead th {\n",
              "        text-align: right;\n",
              "    }\n",
              "</style>\n",
              "<table border=\"1\" class=\"dataframe\">\n",
              "  <thead>\n",
              "    <tr style=\"text-align: right;\">\n",
              "      <th></th>\n",
              "      <th>Year_Birth</th>\n",
              "      <th>Education</th>\n",
              "      <th>Marital_Status</th>\n",
              "      <th>Income</th>\n",
              "      <th>Kidhome</th>\n",
              "      <th>Teenhome</th>\n",
              "      <th>Dt_Customer</th>\n",
              "      <th>Recency</th>\n",
              "      <th>MntWines</th>\n",
              "      <th>MntFruits</th>\n",
              "      <th>MntMeatProducts</th>\n",
              "      <th>MntFishProducts</th>\n",
              "      <th>MntSweetProducts</th>\n",
              "      <th>MntGoldProds</th>\n",
              "      <th>NumDealsPurchases</th>\n",
              "      <th>NumWebPurchases</th>\n",
              "      <th>NumCatalogPurchases</th>\n",
              "      <th>NumStorePurchases</th>\n",
              "      <th>NumWebVisitsMonth</th>\n",
              "      <th>AcceptedCmp3</th>\n",
              "      <th>AcceptedCmp4</th>\n",
              "      <th>AcceptedCmp5</th>\n",
              "      <th>AcceptedCmp1</th>\n",
              "      <th>AcceptedCmp2</th>\n",
              "      <th>Complain</th>\n",
              "      <th>Z_CostContact</th>\n",
              "      <th>Z_Revenue</th>\n",
              "      <th>Response</th>\n",
              "    </tr>\n",
              "  </thead>\n",
              "  <tbody>\n",
              "    <tr>\n",
              "      <th>83</th>\n",
              "      <td>1963</td>\n",
              "      <td>Master</td>\n",
              "      <td>Together</td>\n",
              "      <td>38620</td>\n",
              "      <td>0</td>\n",
              "      <td>0</td>\n",
              "      <td>2013-05-11</td>\n",
              "      <td>56</td>\n",
              "      <td>112</td>\n",
              "      <td>17</td>\n",
              "      <td>44</td>\n",
              "      <td>34</td>\n",
              "      <td>22</td>\n",
              "      <td>89</td>\n",
              "      <td>1</td>\n",
              "      <td>2</td>\n",
              "      <td>5</td>\n",
              "      <td>3</td>\n",
              "      <td>3</td>\n",
              "      <td>0</td>\n",
              "      <td>0</td>\n",
              "      <td>0</td>\n",
              "      <td>0</td>\n",
              "      <td>0</td>\n",
              "      <td>0</td>\n",
              "      <td>3</td>\n",
              "      <td>11</td>\n",
              "      <td>0</td>\n",
              "    </tr>\n",
              "  </tbody>\n",
              "</table>\n",
              "</div>"
            ],
            "text/plain": [
              "    Year_Birth Education Marital_Status  Income  Kidhome  Teenhome  \\\n",
              "83        1963    Master       Together   38620        0         0   \n",
              "\n",
              "   Dt_Customer  Recency  MntWines  MntFruits  MntMeatProducts  \\\n",
              "83  2013-05-11       56       112         17               44   \n",
              "\n",
              "    MntFishProducts  MntSweetProducts  MntGoldProds  NumDealsPurchases  \\\n",
              "83               34                22            89                  1   \n",
              "\n",
              "    NumWebPurchases  NumCatalogPurchases  NumStorePurchases  \\\n",
              "83                2                    5                  3   \n",
              "\n",
              "    NumWebVisitsMonth  AcceptedCmp3  AcceptedCmp4  AcceptedCmp5  AcceptedCmp1  \\\n",
              "83                  3             0             0             0             0   \n",
              "\n",
              "    AcceptedCmp2  Complain  Z_CostContact  Z_Revenue  Response  \n",
              "83             0         0              3         11         0  "
            ]
          },
          "execution_count": 10,
          "metadata": {},
          "output_type": "execute_result"
        }
      ],
      "source": [
        "df[df.duplicated()].head(1)"
      ]
    },
    {
      "cell_type": "code",
      "execution_count": 11,
      "metadata": {
        "colab": {
          "base_uri": "https://localhost:8080/",
          "height": 132
        },
        "id": "QypgqPIKKke6",
        "outputId": "e2e2031b-1852-4bf4-cc33-73788820fb88"
      },
      "outputs": [
        {
          "data": {
            "text/html": [
              "<div>\n",
              "<style scoped>\n",
              "    .dataframe tbody tr th:only-of-type {\n",
              "        vertical-align: middle;\n",
              "    }\n",
              "\n",
              "    .dataframe tbody tr th {\n",
              "        vertical-align: top;\n",
              "    }\n",
              "\n",
              "    .dataframe thead th {\n",
              "        text-align: right;\n",
              "    }\n",
              "</style>\n",
              "<table border=\"1\" class=\"dataframe\">\n",
              "  <thead>\n",
              "    <tr style=\"text-align: right;\">\n",
              "      <th></th>\n",
              "      <th>Year_Birth</th>\n",
              "      <th>Education</th>\n",
              "      <th>Marital_Status</th>\n",
              "      <th>Income</th>\n",
              "      <th>Kidhome</th>\n",
              "      <th>Teenhome</th>\n",
              "      <th>Dt_Customer</th>\n",
              "      <th>Recency</th>\n",
              "      <th>MntWines</th>\n",
              "      <th>MntFruits</th>\n",
              "      <th>MntMeatProducts</th>\n",
              "      <th>MntFishProducts</th>\n",
              "      <th>MntSweetProducts</th>\n",
              "      <th>MntGoldProds</th>\n",
              "      <th>NumDealsPurchases</th>\n",
              "      <th>NumWebPurchases</th>\n",
              "      <th>NumCatalogPurchases</th>\n",
              "      <th>NumStorePurchases</th>\n",
              "      <th>NumWebVisitsMonth</th>\n",
              "      <th>AcceptedCmp3</th>\n",
              "      <th>AcceptedCmp4</th>\n",
              "      <th>AcceptedCmp5</th>\n",
              "      <th>AcceptedCmp1</th>\n",
              "      <th>AcceptedCmp2</th>\n",
              "      <th>Complain</th>\n",
              "      <th>Z_CostContact</th>\n",
              "      <th>Z_Revenue</th>\n",
              "      <th>Response</th>\n",
              "    </tr>\n",
              "  </thead>\n",
              "  <tbody>\n",
              "    <tr>\n",
              "      <th>31</th>\n",
              "      <td>1963</td>\n",
              "      <td>Master</td>\n",
              "      <td>Together</td>\n",
              "      <td>38620</td>\n",
              "      <td>0</td>\n",
              "      <td>0</td>\n",
              "      <td>2013-05-11</td>\n",
              "      <td>56</td>\n",
              "      <td>112</td>\n",
              "      <td>17</td>\n",
              "      <td>44</td>\n",
              "      <td>34</td>\n",
              "      <td>22</td>\n",
              "      <td>89</td>\n",
              "      <td>1</td>\n",
              "      <td>2</td>\n",
              "      <td>5</td>\n",
              "      <td>3</td>\n",
              "      <td>3</td>\n",
              "      <td>0</td>\n",
              "      <td>0</td>\n",
              "      <td>0</td>\n",
              "      <td>0</td>\n",
              "      <td>0</td>\n",
              "      <td>0</td>\n",
              "      <td>3</td>\n",
              "      <td>11</td>\n",
              "      <td>0</td>\n",
              "    </tr>\n",
              "    <tr>\n",
              "      <th>83</th>\n",
              "      <td>1963</td>\n",
              "      <td>Master</td>\n",
              "      <td>Together</td>\n",
              "      <td>38620</td>\n",
              "      <td>0</td>\n",
              "      <td>0</td>\n",
              "      <td>2013-05-11</td>\n",
              "      <td>56</td>\n",
              "      <td>112</td>\n",
              "      <td>17</td>\n",
              "      <td>44</td>\n",
              "      <td>34</td>\n",
              "      <td>22</td>\n",
              "      <td>89</td>\n",
              "      <td>1</td>\n",
              "      <td>2</td>\n",
              "      <td>5</td>\n",
              "      <td>3</td>\n",
              "      <td>3</td>\n",
              "      <td>0</td>\n",
              "      <td>0</td>\n",
              "      <td>0</td>\n",
              "      <td>0</td>\n",
              "      <td>0</td>\n",
              "      <td>0</td>\n",
              "      <td>3</td>\n",
              "      <td>11</td>\n",
              "      <td>0</td>\n",
              "    </tr>\n",
              "  </tbody>\n",
              "</table>\n",
              "</div>"
            ],
            "text/plain": [
              "    Year_Birth Education Marital_Status  Income  Kidhome  Teenhome  \\\n",
              "31        1963    Master       Together   38620        0         0   \n",
              "83        1963    Master       Together   38620        0         0   \n",
              "\n",
              "   Dt_Customer  Recency  MntWines  MntFruits  MntMeatProducts  \\\n",
              "31  2013-05-11       56       112         17               44   \n",
              "83  2013-05-11       56       112         17               44   \n",
              "\n",
              "    MntFishProducts  MntSweetProducts  MntGoldProds  NumDealsPurchases  \\\n",
              "31               34                22            89                  1   \n",
              "83               34                22            89                  1   \n",
              "\n",
              "    NumWebPurchases  NumCatalogPurchases  NumStorePurchases  \\\n",
              "31                2                    5                  3   \n",
              "83                2                    5                  3   \n",
              "\n",
              "    NumWebVisitsMonth  AcceptedCmp3  AcceptedCmp4  AcceptedCmp5  AcceptedCmp1  \\\n",
              "31                  3             0             0             0             0   \n",
              "83                  3             0             0             0             0   \n",
              "\n",
              "    AcceptedCmp2  Complain  Z_CostContact  Z_Revenue  Response  \n",
              "31             0         0              3         11         0  \n",
              "83             0         0              3         11         0  "
            ]
          },
          "execution_count": 11,
          "metadata": {},
          "output_type": "execute_result"
        }
      ],
      "source": [
        "df[df['Year_Birth'].eq(1963) &\n",
        "   df['Dt_Customer'].eq('2013-05-11') &\n",
        "   df['Recency'].eq(56) &\n",
        "   df['MntWines'].eq(112)]"
      ]
    },
    {
      "cell_type": "markdown",
      "metadata": {
        "id": "H1t-RbS3NEko"
      },
      "source": [
        "Analyzing the representation of duplicated values according to the target feature."
      ]
    },
    {
      "cell_type": "code",
      "execution_count": 12,
      "metadata": {
        "colab": {
          "base_uri": "https://localhost:8080/"
        },
        "id": "k9uAz129Mh38",
        "outputId": "108fd0cd-051b-4e03-805a-725ac9826c59"
      },
      "outputs": [
        {
          "data": {
            "text/plain": [
              "0    161\n",
              "1     21\n",
              "Name: Response, dtype: Int64"
            ]
          },
          "execution_count": 12,
          "metadata": {},
          "output_type": "execute_result"
        }
      ],
      "source": [
        "df[df.duplicated()]['Response'].value_counts()"
      ]
    },
    {
      "cell_type": "code",
      "execution_count": 13,
      "metadata": {
        "colab": {
          "base_uri": "https://localhost:8080/"
        },
        "id": "xZ9CYPZtNRvq",
        "outputId": "f09a8083-63d3-4747-f4b0-5df58392a17f"
      },
      "outputs": [
        {
          "data": {
            "text/plain": [
              "0    0.850893\n",
              "1    0.149107\n",
              "Name: Response, dtype: Float64"
            ]
          },
          "execution_count": 13,
          "metadata": {},
          "output_type": "execute_result"
        }
      ],
      "source": [
        "df['Response'].value_counts(normalize= True)"
      ]
    },
    {
      "cell_type": "code",
      "execution_count": 14,
      "metadata": {
        "colab": {
          "base_uri": "https://localhost:8080/"
        },
        "id": "K5kmHGB7NRvx",
        "outputId": "a1fc9a73-8dfc-4f11-9c9c-8daf798d7195"
      },
      "outputs": [
        {
          "name": "stdout",
          "output_type": "stream",
          "text": [
            "% Duplicated values:  8.12\n",
            "% Duplicated values and Response == 1:  0.94\n"
          ]
        }
      ],
      "source": [
        "print('% Duplicated values: ', np.round((df.duplicated().sum() / len(df)) * 100, 2))\n",
        "print('% Duplicated values and Response == 1: ',\n",
        "      np.round(((len(df[(df.duplicated()) & (df['Response'].eq(1))]) / len(df)) * 100), 2))"
      ]
    },
    {
      "cell_type": "markdown",
      "metadata": {
        "id": "XY8w7uz1NRvx"
      },
      "source": [
        "The ID column was hidding records already inserted into the dataset and only the last value will be kept to avoid the risk of overfitting and bias in classifying users with Response == 0. This is particularly important because this class exhibits a greater distribution in duplicated data compared to the rest of the dataframe."
      ]
    },
    {
      "cell_type": "code",
      "execution_count": 15,
      "metadata": {
        "colab": {
          "base_uri": "https://localhost:8080/"
        },
        "id": "YWeymhg7HF3-",
        "outputId": "84968dd9-1a02-44c4-9337-7e5a87b64adc"
      },
      "outputs": [
        {
          "name": "stdout",
          "output_type": "stream",
          "text": [
            "Dataframe shape before drop_duplicates: 2240\n",
            "Dataframe shape after drop_duplicates: 2058\n"
          ]
        }
      ],
      "source": [
        "print('Dataframe shape before drop_duplicates:', df.shape[0])\n",
        "df = df.drop_duplicates(keep= 'last')\n",
        "df = df.reset_index(drop= True)\n",
        "print('Dataframe shape after drop_duplicates:', df.drop_duplicates().shape[0])"
      ]
    },
    {
      "cell_type": "markdown",
      "metadata": {
        "id": "9OYngYH701Yw"
      },
      "source": [
        "## Categorical features"
      ]
    },
    {
      "cell_type": "code",
      "execution_count": 16,
      "metadata": {
        "colab": {
          "base_uri": "https://localhost:8080/",
          "height": 175
        },
        "id": "pGRO1C11zJCu",
        "outputId": "501e9d14-579c-43b3-8596-a0960da32543"
      },
      "outputs": [
        {
          "data": {
            "text/html": [
              "<div>\n",
              "<style scoped>\n",
              "    .dataframe tbody tr th:only-of-type {\n",
              "        vertical-align: middle;\n",
              "    }\n",
              "\n",
              "    .dataframe tbody tr th {\n",
              "        vertical-align: top;\n",
              "    }\n",
              "\n",
              "    .dataframe thead th {\n",
              "        text-align: right;\n",
              "    }\n",
              "</style>\n",
              "<table border=\"1\" class=\"dataframe\">\n",
              "  <thead>\n",
              "    <tr style=\"text-align: right;\">\n",
              "      <th></th>\n",
              "      <th>Education</th>\n",
              "      <th>Marital_Status</th>\n",
              "    </tr>\n",
              "  </thead>\n",
              "  <tbody>\n",
              "    <tr>\n",
              "      <th>count</th>\n",
              "      <td>2058</td>\n",
              "      <td>2058</td>\n",
              "    </tr>\n",
              "    <tr>\n",
              "      <th>unique</th>\n",
              "      <td>5</td>\n",
              "      <td>8</td>\n",
              "    </tr>\n",
              "    <tr>\n",
              "      <th>top</th>\n",
              "      <td>Graduation</td>\n",
              "      <td>Married</td>\n",
              "    </tr>\n",
              "    <tr>\n",
              "      <th>freq</th>\n",
              "      <td>1030</td>\n",
              "      <td>795</td>\n",
              "    </tr>\n",
              "  </tbody>\n",
              "</table>\n",
              "</div>"
            ],
            "text/plain": [
              "         Education Marital_Status\n",
              "count         2058           2058\n",
              "unique           5              8\n",
              "top     Graduation        Married\n",
              "freq          1030            795"
            ]
          },
          "execution_count": 16,
          "metadata": {},
          "output_type": "execute_result"
        }
      ],
      "source": [
        "df.describe(include= 'string')"
      ]
    },
    {
      "cell_type": "code",
      "execution_count": 17,
      "metadata": {
        "colab": {
          "base_uri": "https://localhost:8080/"
        },
        "id": "kGIZTHpTIRN7",
        "outputId": "51210de0-11de-4af7-bc12-0730911b0ae3"
      },
      "outputs": [
        {
          "data": {
            "text/plain": [
              "Graduation    0.500486\n",
              "PhD           0.218659\n",
              "Master        0.165695\n",
              "2n Cycle      0.091351\n",
              "Basic          0.02381\n",
              "Name: Education, dtype: Float64"
            ]
          },
          "execution_count": 17,
          "metadata": {},
          "output_type": "execute_result"
        }
      ],
      "source": [
        "df['Education'].value_counts(normalize= True)"
      ]
    },
    {
      "cell_type": "markdown",
      "metadata": {
        "id": "o8Y4wJAmFd_h"
      },
      "source": [
        "### Transforming Marital_Status column"
      ]
    },
    {
      "cell_type": "code",
      "execution_count": 18,
      "metadata": {
        "colab": {
          "base_uri": "https://localhost:8080/"
        },
        "id": "wukJLgL-Ksjz",
        "outputId": "1a9e0bff-e6c7-4b1e-c40d-b07889a58431"
      },
      "outputs": [
        {
          "data": {
            "text/plain": [
              "Married     0.386297\n",
              "Together    0.253158\n",
              "Single      0.217687\n",
              "Divorced    0.104956\n",
              "Widow         0.0345\n",
              "Alone       0.001458\n",
              "Absurd      0.000972\n",
              "YOLO        0.000972\n",
              "Name: Marital_Status, dtype: Float64"
            ]
          },
          "execution_count": 18,
          "metadata": {},
          "output_type": "execute_result"
        }
      ],
      "source": [
        "df['Marital_Status'].value_counts(normalize= True)"
      ]
    },
    {
      "cell_type": "code",
      "execution_count": 19,
      "metadata": {
        "id": "tBFXknwtCzYa"
      },
      "outputs": [],
      "source": [
        "df['Marital_Status'] = df['Marital_Status'].apply(lambda x : 'Single' if x.lower() == 'alone' else x)\n",
        "df['Marital_Status'] = df['Marital_Status'].astype(\"string\")"
      ]
    },
    {
      "cell_type": "code",
      "execution_count": 20,
      "metadata": {
        "id": "nEmJYXKzLYaU"
      },
      "outputs": [],
      "source": [
        "marital_status_drop_index = df[df['Marital_Status'].str.lower().isin(['yolo','absurd'])].index\n",
        "\n",
        "df.drop(marital_status_drop_index, inplace= True)\n",
        "\n",
        "df = df.reset_index(drop= True)"
      ]
    },
    {
      "cell_type": "code",
      "execution_count": 21,
      "metadata": {
        "colab": {
          "base_uri": "https://localhost:8080/"
        },
        "id": "9q0wtDDKCZyf",
        "outputId": "d6e86a2b-dded-459b-b5a4-8254de2e1717"
      },
      "outputs": [
        {
          "data": {
            "text/plain": [
              "Married     795\n",
              "Together    521\n",
              "Single      451\n",
              "Divorced    216\n",
              "Widow        71\n",
              "Name: Marital_Status, dtype: Int64"
            ]
          },
          "execution_count": 21,
          "metadata": {},
          "output_type": "execute_result"
        }
      ],
      "source": [
        "df['Marital_Status'].value_counts()"
      ]
    },
    {
      "cell_type": "markdown",
      "metadata": {
        "id": "rtfaWcBlTCbN"
      },
      "source": [
        "## NaN analysis"
      ]
    },
    {
      "cell_type": "code",
      "execution_count": 22,
      "metadata": {
        "id": "Z7F9-xP27Gbz"
      },
      "outputs": [],
      "source": [
        "def highlight_nans(val):\n",
        "    return 'background-color: lightcoral' if val != 0 else ''"
      ]
    },
    {
      "cell_type": "code",
      "execution_count": 23,
      "metadata": {
        "colab": {
          "base_uri": "https://localhost:8080/",
          "height": 927
        },
        "id": "WtJHgVtY-OM-",
        "outputId": "211a1f45-d73d-40f1-8e36-9168475c9ec7"
      },
      "outputs": [
        {
          "data": {
            "text/html": [
              "<style type=\"text/css\">\n",
              "#T_ce498_row3_col0 {\n",
              "  background-color: lightcoral;\n",
              "}\n",
              "</style>\n",
              "<table id=\"T_ce498\">\n",
              "  <thead>\n",
              "    <tr>\n",
              "      <th class=\"blank level0\" >&nbsp;</th>\n",
              "      <th id=\"T_ce498_level0_col0\" class=\"col_heading level0 col0\" >NaN values</th>\n",
              "    </tr>\n",
              "  </thead>\n",
              "  <tbody>\n",
              "    <tr>\n",
              "      <th id=\"T_ce498_level0_row0\" class=\"row_heading level0 row0\" >Year_Birth</th>\n",
              "      <td id=\"T_ce498_row0_col0\" class=\"data row0 col0\" >0</td>\n",
              "    </tr>\n",
              "    <tr>\n",
              "      <th id=\"T_ce498_level0_row1\" class=\"row_heading level0 row1\" >Education</th>\n",
              "      <td id=\"T_ce498_row1_col0\" class=\"data row1 col0\" >0</td>\n",
              "    </tr>\n",
              "    <tr>\n",
              "      <th id=\"T_ce498_level0_row2\" class=\"row_heading level0 row2\" >Marital_Status</th>\n",
              "      <td id=\"T_ce498_row2_col0\" class=\"data row2 col0\" >0</td>\n",
              "    </tr>\n",
              "    <tr>\n",
              "      <th id=\"T_ce498_level0_row3\" class=\"row_heading level0 row3\" >Income</th>\n",
              "      <td id=\"T_ce498_row3_col0\" class=\"data row3 col0\" >24</td>\n",
              "    </tr>\n",
              "    <tr>\n",
              "      <th id=\"T_ce498_level0_row4\" class=\"row_heading level0 row4\" >Kidhome</th>\n",
              "      <td id=\"T_ce498_row4_col0\" class=\"data row4 col0\" >0</td>\n",
              "    </tr>\n",
              "    <tr>\n",
              "      <th id=\"T_ce498_level0_row5\" class=\"row_heading level0 row5\" >Teenhome</th>\n",
              "      <td id=\"T_ce498_row5_col0\" class=\"data row5 col0\" >0</td>\n",
              "    </tr>\n",
              "    <tr>\n",
              "      <th id=\"T_ce498_level0_row6\" class=\"row_heading level0 row6\" >Dt_Customer</th>\n",
              "      <td id=\"T_ce498_row6_col0\" class=\"data row6 col0\" >0</td>\n",
              "    </tr>\n",
              "    <tr>\n",
              "      <th id=\"T_ce498_level0_row7\" class=\"row_heading level0 row7\" >Recency</th>\n",
              "      <td id=\"T_ce498_row7_col0\" class=\"data row7 col0\" >0</td>\n",
              "    </tr>\n",
              "    <tr>\n",
              "      <th id=\"T_ce498_level0_row8\" class=\"row_heading level0 row8\" >MntWines</th>\n",
              "      <td id=\"T_ce498_row8_col0\" class=\"data row8 col0\" >0</td>\n",
              "    </tr>\n",
              "    <tr>\n",
              "      <th id=\"T_ce498_level0_row9\" class=\"row_heading level0 row9\" >MntFruits</th>\n",
              "      <td id=\"T_ce498_row9_col0\" class=\"data row9 col0\" >0</td>\n",
              "    </tr>\n",
              "    <tr>\n",
              "      <th id=\"T_ce498_level0_row10\" class=\"row_heading level0 row10\" >MntMeatProducts</th>\n",
              "      <td id=\"T_ce498_row10_col0\" class=\"data row10 col0\" >0</td>\n",
              "    </tr>\n",
              "    <tr>\n",
              "      <th id=\"T_ce498_level0_row11\" class=\"row_heading level0 row11\" >MntFishProducts</th>\n",
              "      <td id=\"T_ce498_row11_col0\" class=\"data row11 col0\" >0</td>\n",
              "    </tr>\n",
              "    <tr>\n",
              "      <th id=\"T_ce498_level0_row12\" class=\"row_heading level0 row12\" >MntSweetProducts</th>\n",
              "      <td id=\"T_ce498_row12_col0\" class=\"data row12 col0\" >0</td>\n",
              "    </tr>\n",
              "    <tr>\n",
              "      <th id=\"T_ce498_level0_row13\" class=\"row_heading level0 row13\" >MntGoldProds</th>\n",
              "      <td id=\"T_ce498_row13_col0\" class=\"data row13 col0\" >0</td>\n",
              "    </tr>\n",
              "    <tr>\n",
              "      <th id=\"T_ce498_level0_row14\" class=\"row_heading level0 row14\" >NumDealsPurchases</th>\n",
              "      <td id=\"T_ce498_row14_col0\" class=\"data row14 col0\" >0</td>\n",
              "    </tr>\n",
              "    <tr>\n",
              "      <th id=\"T_ce498_level0_row15\" class=\"row_heading level0 row15\" >NumWebPurchases</th>\n",
              "      <td id=\"T_ce498_row15_col0\" class=\"data row15 col0\" >0</td>\n",
              "    </tr>\n",
              "    <tr>\n",
              "      <th id=\"T_ce498_level0_row16\" class=\"row_heading level0 row16\" >NumCatalogPurchases</th>\n",
              "      <td id=\"T_ce498_row16_col0\" class=\"data row16 col0\" >0</td>\n",
              "    </tr>\n",
              "    <tr>\n",
              "      <th id=\"T_ce498_level0_row17\" class=\"row_heading level0 row17\" >NumStorePurchases</th>\n",
              "      <td id=\"T_ce498_row17_col0\" class=\"data row17 col0\" >0</td>\n",
              "    </tr>\n",
              "    <tr>\n",
              "      <th id=\"T_ce498_level0_row18\" class=\"row_heading level0 row18\" >NumWebVisitsMonth</th>\n",
              "      <td id=\"T_ce498_row18_col0\" class=\"data row18 col0\" >0</td>\n",
              "    </tr>\n",
              "    <tr>\n",
              "      <th id=\"T_ce498_level0_row19\" class=\"row_heading level0 row19\" >AcceptedCmp3</th>\n",
              "      <td id=\"T_ce498_row19_col0\" class=\"data row19 col0\" >0</td>\n",
              "    </tr>\n",
              "    <tr>\n",
              "      <th id=\"T_ce498_level0_row20\" class=\"row_heading level0 row20\" >AcceptedCmp4</th>\n",
              "      <td id=\"T_ce498_row20_col0\" class=\"data row20 col0\" >0</td>\n",
              "    </tr>\n",
              "    <tr>\n",
              "      <th id=\"T_ce498_level0_row21\" class=\"row_heading level0 row21\" >AcceptedCmp5</th>\n",
              "      <td id=\"T_ce498_row21_col0\" class=\"data row21 col0\" >0</td>\n",
              "    </tr>\n",
              "    <tr>\n",
              "      <th id=\"T_ce498_level0_row22\" class=\"row_heading level0 row22\" >AcceptedCmp1</th>\n",
              "      <td id=\"T_ce498_row22_col0\" class=\"data row22 col0\" >0</td>\n",
              "    </tr>\n",
              "    <tr>\n",
              "      <th id=\"T_ce498_level0_row23\" class=\"row_heading level0 row23\" >AcceptedCmp2</th>\n",
              "      <td id=\"T_ce498_row23_col0\" class=\"data row23 col0\" >0</td>\n",
              "    </tr>\n",
              "    <tr>\n",
              "      <th id=\"T_ce498_level0_row24\" class=\"row_heading level0 row24\" >Complain</th>\n",
              "      <td id=\"T_ce498_row24_col0\" class=\"data row24 col0\" >0</td>\n",
              "    </tr>\n",
              "    <tr>\n",
              "      <th id=\"T_ce498_level0_row25\" class=\"row_heading level0 row25\" >Z_CostContact</th>\n",
              "      <td id=\"T_ce498_row25_col0\" class=\"data row25 col0\" >0</td>\n",
              "    </tr>\n",
              "    <tr>\n",
              "      <th id=\"T_ce498_level0_row26\" class=\"row_heading level0 row26\" >Z_Revenue</th>\n",
              "      <td id=\"T_ce498_row26_col0\" class=\"data row26 col0\" >0</td>\n",
              "    </tr>\n",
              "    <tr>\n",
              "      <th id=\"T_ce498_level0_row27\" class=\"row_heading level0 row27\" >Response</th>\n",
              "      <td id=\"T_ce498_row27_col0\" class=\"data row27 col0\" >0</td>\n",
              "    </tr>\n",
              "  </tbody>\n",
              "</table>\n"
            ],
            "text/plain": [
              "<pandas.io.formats.style.Styler at 0x286e55dcc70>"
            ]
          },
          "execution_count": 23,
          "metadata": {},
          "output_type": "execute_result"
        }
      ],
      "source": [
        "df.isnull().sum().to_frame().rename(columns= {0:'NaN values'}).style.applymap(highlight_nans)"
      ]
    },
    {
      "cell_type": "markdown",
      "metadata": {
        "id": "aBwsz6m3Uj3H"
      },
      "source": [
        "Only the feature \"Income\" contains NaN values. Analyzing the representation of NaN values according to the target feature."
      ]
    },
    {
      "cell_type": "code",
      "execution_count": 24,
      "metadata": {
        "colab": {
          "base_uri": "https://localhost:8080/"
        },
        "id": "P2ohigLeVEmE",
        "outputId": "13f009a8-7036-4c4b-d8ba-8889ffcf73d4"
      },
      "outputs": [
        {
          "data": {
            "text/plain": [
              "0    23\n",
              "1     1\n",
              "Name: Response, dtype: Int64"
            ]
          },
          "execution_count": 24,
          "metadata": {},
          "output_type": "execute_result"
        }
      ],
      "source": [
        "df[df['Income'].isnull()]['Response'].value_counts()"
      ]
    },
    {
      "cell_type": "code",
      "execution_count": 25,
      "metadata": {
        "colab": {
          "base_uri": "https://localhost:8080/"
        },
        "id": "PsT3UDpBUfZB",
        "outputId": "4d1b4b9f-0575-4a66-f220-beb19b55cbe2"
      },
      "outputs": [
        {
          "data": {
            "text/plain": [
              "0    0.848588\n",
              "1    0.151412\n",
              "Name: Response, dtype: Float64"
            ]
          },
          "execution_count": 25,
          "metadata": {},
          "output_type": "execute_result"
        }
      ],
      "source": [
        "df['Response'].value_counts(normalize = True)"
      ]
    },
    {
      "cell_type": "code",
      "execution_count": 26,
      "metadata": {
        "colab": {
          "base_uri": "https://localhost:8080/"
        },
        "id": "0_0sI5sOWUdg",
        "outputId": "5e7736cf-903f-4e8a-944c-9753e4bd664d"
      },
      "outputs": [
        {
          "name": "stdout",
          "output_type": "stream",
          "text": [
            "% NaN samples:  1.17\n",
            "% NaN samples and Response == 1:  0.05\n"
          ]
        }
      ],
      "source": [
        "print('% NaN samples: ', np.round((df['Income'].isnull().sum()/len(df)) * 100, 2))\n",
        "print('% NaN samples and Response == 1: ',\n",
        "      np.round((( len(df[(df['Income'].isnull()) & (df['Response'].eq(1))]) / len(df)) * 100), 2))"
      ]
    },
    {
      "cell_type": "markdown",
      "metadata": {
        "id": "P3Y2anB0VvoW"
      },
      "source": [
        "Considering that the 24 rows with NaN values represent 1% of the total dataset, and among the 24 rows where Income == NaN, only one had Response == 1 (0.05%), the 24 rows will be dropped."
      ]
    },
    {
      "cell_type": "code",
      "execution_count": 27,
      "metadata": {
        "colab": {
          "base_uri": "https://localhost:8080/"
        },
        "id": "xv7DXHMCVuvq",
        "outputId": "b5f679a4-d4a5-4de6-c030-d34d2d7f3bb6"
      },
      "outputs": [
        {
          "name": "stdout",
          "output_type": "stream",
          "text": [
            "Dataframe shape before dropna:  2054\n",
            "Dataframe shape after dropna:  2030\n"
          ]
        }
      ],
      "source": [
        "print('Dataframe shape before dropna: ', df.shape[0])\n",
        "df.dropna(axis= 0, inplace= True)\n",
        "df = df.reset_index(drop= True)\n",
        "print('Dataframe shape after dropna: ', df.shape[0])"
      ]
    },
    {
      "cell_type": "markdown",
      "metadata": {
        "id": "gKG79FhyHpuh"
      },
      "source": [
        "## Features with unique values\n",
        "(They should be deleted as they do not contribute to explaining the variation of the target feature).\n",
        "\n",
        "\n",
        "\n",
        "\n",
        "\n"
      ]
    },
    {
      "cell_type": "code",
      "execution_count": 28,
      "metadata": {
        "colab": {
          "base_uri": "https://localhost:8080/"
        },
        "id": "-WYX9q2zQ-tt",
        "outputId": "3d4eb2ae-8216-4d97-8104-7838143168b5"
      },
      "outputs": [
        {
          "data": {
            "text/plain": [
              "Z_Revenue                 1\n",
              "Z_CostContact             1\n",
              "Response                  2\n",
              "AcceptedCmp3              2\n",
              "AcceptedCmp4              2\n",
              "AcceptedCmp5              2\n",
              "AcceptedCmp2              2\n",
              "AcceptedCmp1              2\n",
              "Complain                  2\n",
              "Teenhome                  3\n",
              "Kidhome                   3\n",
              "Marital_Status            5\n",
              "Education                 5\n",
              "NumCatalogPurchases      14\n",
              "NumStorePurchases        14\n",
              "NumDealsPurchases        15\n",
              "NumWebPurchases          15\n",
              "NumWebVisitsMonth        16\n",
              "Year_Birth               59\n",
              "Recency                 100\n",
              "MntFruits               158\n",
              "MntSweetProducts        176\n",
              "MntFishProducts         182\n",
              "MntGoldProds            211\n",
              "MntMeatProducts         554\n",
              "Dt_Customer             662\n",
              "MntWines                776\n",
              "Income                 1973\n",
              "dtype: int64"
            ]
          },
          "execution_count": 28,
          "metadata": {},
          "output_type": "execute_result"
        }
      ],
      "source": [
        "df.nunique().sort_values()"
      ]
    },
    {
      "cell_type": "markdown",
      "metadata": {
        "id": "EiR_L6hUGdsA"
      },
      "source": [
        "### Deleting Z_CostContact and Z_Revenue columns"
      ]
    },
    {
      "cell_type": "code",
      "execution_count": 29,
      "metadata": {
        "id": "cAzjbN4YRug7"
      },
      "outputs": [],
      "source": [
        "df.drop(['Z_CostContact','Z_Revenue'], axis= 1, inplace= True, errors= 'ignore')"
      ]
    },
    {
      "cell_type": "markdown",
      "metadata": {
        "id": "CmRkHZfkX97o"
      },
      "source": [
        "# Exploratory Data Analysis"
      ]
    },
    {
      "cell_type": "markdown",
      "metadata": {
        "id": "_hWZu2xuYW-i"
      },
      "source": [
        "## Transforming Year_Birth column into Age"
      ]
    },
    {
      "cell_type": "code",
      "execution_count": 30,
      "metadata": {
        "colab": {
          "base_uri": "https://localhost:8080/",
          "height": 226
        },
        "id": "vYqLrnutYVvG",
        "outputId": "2f54978c-f421-4c53-ae8a-18f95bfd64d8"
      },
      "outputs": [
        {
          "data": {
            "text/html": [
              "<div>\n",
              "<style scoped>\n",
              "    .dataframe tbody tr th:only-of-type {\n",
              "        vertical-align: middle;\n",
              "    }\n",
              "\n",
              "    .dataframe tbody tr th {\n",
              "        vertical-align: top;\n",
              "    }\n",
              "\n",
              "    .dataframe thead th {\n",
              "        text-align: right;\n",
              "    }\n",
              "</style>\n",
              "<table border=\"1\" class=\"dataframe\">\n",
              "  <thead>\n",
              "    <tr style=\"text-align: right;\">\n",
              "      <th></th>\n",
              "      <th>Education</th>\n",
              "      <th>Marital_Status</th>\n",
              "      <th>Income</th>\n",
              "      <th>Kidhome</th>\n",
              "      <th>Teenhome</th>\n",
              "      <th>Dt_Customer</th>\n",
              "      <th>Recency</th>\n",
              "      <th>MntWines</th>\n",
              "      <th>MntFruits</th>\n",
              "      <th>MntMeatProducts</th>\n",
              "      <th>MntFishProducts</th>\n",
              "      <th>MntSweetProducts</th>\n",
              "      <th>MntGoldProds</th>\n",
              "      <th>NumDealsPurchases</th>\n",
              "      <th>NumWebPurchases</th>\n",
              "      <th>NumCatalogPurchases</th>\n",
              "      <th>NumStorePurchases</th>\n",
              "      <th>NumWebVisitsMonth</th>\n",
              "      <th>AcceptedCmp3</th>\n",
              "      <th>AcceptedCmp4</th>\n",
              "      <th>AcceptedCmp5</th>\n",
              "      <th>AcceptedCmp1</th>\n",
              "      <th>AcceptedCmp2</th>\n",
              "      <th>Complain</th>\n",
              "      <th>Response</th>\n",
              "      <th>Age</th>\n",
              "    </tr>\n",
              "  </thead>\n",
              "  <tbody>\n",
              "    <tr>\n",
              "      <th>0</th>\n",
              "      <td>Graduation</td>\n",
              "      <td>Single</td>\n",
              "      <td>58138</td>\n",
              "      <td>0</td>\n",
              "      <td>0</td>\n",
              "      <td>2012-09-04</td>\n",
              "      <td>58</td>\n",
              "      <td>635</td>\n",
              "      <td>88</td>\n",
              "      <td>546</td>\n",
              "      <td>172</td>\n",
              "      <td>88</td>\n",
              "      <td>88</td>\n",
              "      <td>3</td>\n",
              "      <td>8</td>\n",
              "      <td>10</td>\n",
              "      <td>4</td>\n",
              "      <td>7</td>\n",
              "      <td>0</td>\n",
              "      <td>0</td>\n",
              "      <td>0</td>\n",
              "      <td>0</td>\n",
              "      <td>0</td>\n",
              "      <td>0</td>\n",
              "      <td>1</td>\n",
              "      <td>63</td>\n",
              "    </tr>\n",
              "    <tr>\n",
              "      <th>1</th>\n",
              "      <td>Graduation</td>\n",
              "      <td>Single</td>\n",
              "      <td>46344</td>\n",
              "      <td>1</td>\n",
              "      <td>1</td>\n",
              "      <td>2014-03-08</td>\n",
              "      <td>38</td>\n",
              "      <td>11</td>\n",
              "      <td>1</td>\n",
              "      <td>6</td>\n",
              "      <td>2</td>\n",
              "      <td>1</td>\n",
              "      <td>6</td>\n",
              "      <td>2</td>\n",
              "      <td>1</td>\n",
              "      <td>1</td>\n",
              "      <td>2</td>\n",
              "      <td>5</td>\n",
              "      <td>0</td>\n",
              "      <td>0</td>\n",
              "      <td>0</td>\n",
              "      <td>0</td>\n",
              "      <td>0</td>\n",
              "      <td>0</td>\n",
              "      <td>0</td>\n",
              "      <td>66</td>\n",
              "    </tr>\n",
              "    <tr>\n",
              "      <th>2</th>\n",
              "      <td>Graduation</td>\n",
              "      <td>Together</td>\n",
              "      <td>71613</td>\n",
              "      <td>0</td>\n",
              "      <td>0</td>\n",
              "      <td>2013-08-21</td>\n",
              "      <td>26</td>\n",
              "      <td>426</td>\n",
              "      <td>49</td>\n",
              "      <td>127</td>\n",
              "      <td>111</td>\n",
              "      <td>21</td>\n",
              "      <td>42</td>\n",
              "      <td>1</td>\n",
              "      <td>8</td>\n",
              "      <td>2</td>\n",
              "      <td>10</td>\n",
              "      <td>4</td>\n",
              "      <td>0</td>\n",
              "      <td>0</td>\n",
              "      <td>0</td>\n",
              "      <td>0</td>\n",
              "      <td>0</td>\n",
              "      <td>0</td>\n",
              "      <td>0</td>\n",
              "      <td>55</td>\n",
              "    </tr>\n",
              "    <tr>\n",
              "      <th>3</th>\n",
              "      <td>Graduation</td>\n",
              "      <td>Together</td>\n",
              "      <td>26646</td>\n",
              "      <td>1</td>\n",
              "      <td>0</td>\n",
              "      <td>2014-02-10</td>\n",
              "      <td>26</td>\n",
              "      <td>11</td>\n",
              "      <td>4</td>\n",
              "      <td>20</td>\n",
              "      <td>10</td>\n",
              "      <td>3</td>\n",
              "      <td>5</td>\n",
              "      <td>2</td>\n",
              "      <td>2</td>\n",
              "      <td>0</td>\n",
              "      <td>4</td>\n",
              "      <td>6</td>\n",
              "      <td>0</td>\n",
              "      <td>0</td>\n",
              "      <td>0</td>\n",
              "      <td>0</td>\n",
              "      <td>0</td>\n",
              "      <td>0</td>\n",
              "      <td>0</td>\n",
              "      <td>36</td>\n",
              "    </tr>\n",
              "    <tr>\n",
              "      <th>4</th>\n",
              "      <td>PhD</td>\n",
              "      <td>Married</td>\n",
              "      <td>58293</td>\n",
              "      <td>1</td>\n",
              "      <td>0</td>\n",
              "      <td>2014-01-19</td>\n",
              "      <td>94</td>\n",
              "      <td>173</td>\n",
              "      <td>43</td>\n",
              "      <td>118</td>\n",
              "      <td>46</td>\n",
              "      <td>27</td>\n",
              "      <td>15</td>\n",
              "      <td>5</td>\n",
              "      <td>5</td>\n",
              "      <td>3</td>\n",
              "      <td>6</td>\n",
              "      <td>5</td>\n",
              "      <td>0</td>\n",
              "      <td>0</td>\n",
              "      <td>0</td>\n",
              "      <td>0</td>\n",
              "      <td>0</td>\n",
              "      <td>0</td>\n",
              "      <td>0</td>\n",
              "      <td>39</td>\n",
              "    </tr>\n",
              "  </tbody>\n",
              "</table>\n",
              "</div>"
            ],
            "text/plain": [
              "    Education Marital_Status  Income  Kidhome  Teenhome Dt_Customer  Recency  \\\n",
              "0  Graduation         Single   58138        0         0  2012-09-04       58   \n",
              "1  Graduation         Single   46344        1         1  2014-03-08       38   \n",
              "2  Graduation       Together   71613        0         0  2013-08-21       26   \n",
              "3  Graduation       Together   26646        1         0  2014-02-10       26   \n",
              "4         PhD        Married   58293        1         0  2014-01-19       94   \n",
              "\n",
              "   MntWines  MntFruits  MntMeatProducts  MntFishProducts  MntSweetProducts  \\\n",
              "0       635         88              546              172                88   \n",
              "1        11          1                6                2                 1   \n",
              "2       426         49              127              111                21   \n",
              "3        11          4               20               10                 3   \n",
              "4       173         43              118               46                27   \n",
              "\n",
              "   MntGoldProds  NumDealsPurchases  NumWebPurchases  NumCatalogPurchases  \\\n",
              "0            88                  3                8                   10   \n",
              "1             6                  2                1                    1   \n",
              "2            42                  1                8                    2   \n",
              "3             5                  2                2                    0   \n",
              "4            15                  5                5                    3   \n",
              "\n",
              "   NumStorePurchases  NumWebVisitsMonth  AcceptedCmp3  AcceptedCmp4  \\\n",
              "0                  4                  7             0             0   \n",
              "1                  2                  5             0             0   \n",
              "2                 10                  4             0             0   \n",
              "3                  4                  6             0             0   \n",
              "4                  6                  5             0             0   \n",
              "\n",
              "   AcceptedCmp5  AcceptedCmp1  AcceptedCmp2  Complain  Response  Age  \n",
              "0             0             0             0         0         1   63  \n",
              "1             0             0             0         0         0   66  \n",
              "2             0             0             0         0         0   55  \n",
              "3             0             0             0         0         0   36  \n",
              "4             0             0             0         0         0   39  "
            ]
          },
          "execution_count": 30,
          "metadata": {},
          "output_type": "execute_result"
        }
      ],
      "source": [
        "df['Age'] = 2020 - df['Year_Birth']\n",
        "\n",
        "df.drop('Year_Birth', axis= 1, inplace= True)\n",
        "df.head()"
      ]
    },
    {
      "cell_type": "markdown",
      "metadata": {
        "id": "b8bffPN_ZZyh"
      },
      "source": [
        "## Transforming Dt_Customer column into Time_Days_Customer"
      ]
    },
    {
      "cell_type": "code",
      "execution_count": 31,
      "metadata": {
        "id": "Sz03ljBaYga-"
      },
      "outputs": [],
      "source": [
        "df['Time_Days_Customer'] = (pd.to_datetime('2020-02-19') - df['Dt_Customer']).dt.days\n",
        "\n",
        "df.drop('Dt_Customer', axis= 1, inplace= True)"
      ]
    },
    {
      "cell_type": "markdown",
      "metadata": {
        "id": "UkgO6NWrdHXI"
      },
      "source": [
        "## Histogram of features"
      ]
    },
    {
      "cell_type": "code",
      "execution_count": 32,
      "metadata": {
        "colab": {
          "base_uri": "https://localhost:8080/",
          "height": 697
        },
        "id": "8qADSNPCWbOx",
        "outputId": "c1c3151f-d4b1-49bf-c934-daddee440c63"
      },
      "outputs": [
        {
          "data": {
            "image/png": "[encoded data removed]",
            "text/plain": [
              "<Figure size 1500x800 with 6 Axes>"
            ]
          },
          "metadata": {},
          "output_type": "display_data"
        }
      ],
      "source": [
        "df.hist(column= ['Age', 'Time_Days_Customer', 'Income', 'Kidhome', 'Teenhome', 'Recency'], figsize= (15,8));"
      ]
    },
    {
      "cell_type": "markdown",
      "metadata": {
        "id": "jOGCN8z3KITP"
      },
      "source": [
        "## Representation of Response == 0 and == 1 for each categorical variable."
      ]
    },
    {
      "cell_type": "code",
      "execution_count": 33,
      "metadata": {
        "colab": {
          "base_uri": "https://localhost:8080/"
        },
        "id": "fNW3zXb6fzbD",
        "outputId": "f99094b2-8393-4eb5-95a7-c39d7dd36677"
      },
      "outputs": [
        {
          "data": {
            "text/plain": [
              "Index(['AcceptedCmp1', 'AcceptedCmp2', 'AcceptedCmp3', 'AcceptedCmp4',\n",
              "       'AcceptedCmp5', 'Age', 'Complain', 'Education', 'Income', 'Kidhome',\n",
              "       'Marital_Status', 'MntFishProducts', 'MntFruits', 'MntGoldProds',\n",
              "       'MntMeatProducts', 'MntSweetProducts', 'MntWines',\n",
              "       'NumCatalogPurchases', 'NumDealsPurchases', 'NumStorePurchases',\n",
              "       'NumWebPurchases', 'NumWebVisitsMonth', 'Recency', 'Teenhome',\n",
              "       'Time_Days_Customer', 'Response'],\n",
              "      dtype='object')"
            ]
          },
          "execution_count": 33,
          "metadata": {},
          "output_type": "execute_result"
        }
      ],
      "source": [
        "df.rename(columns= {'Response':'z_Response'}, inplace= True)\n",
        "cols = df.columns.sort_values()\n",
        "df = df[cols]\n",
        "df.rename(columns= {'z_Response':'Response'}, inplace= True)\n",
        "\n",
        "df.columns"
      ]
    },
    {
      "cell_type": "code",
      "execution_count": 34,
      "metadata": {
        "colab": {
          "base_uri": "https://localhost:8080/",
          "height": 1000
        },
        "id": "NkTXO657YFVE",
        "outputId": "3563f6c4-8f71-40b2-f19c-23716ed0deed"
      },
      "outputs": [
        {
          "data": {
            "image/png": "[encoded data removed]",
            "text/plain": [
              "<Figure size 2500x1600 with 25 Axes>"
            ]
          },
          "metadata": {},
          "output_type": "display_data"
        }
      ],
      "source": [
        "columns = df.columns\n",
        "fig, axes = plt.subplots(5, 5, figsize= (25, 16), sharey= False)\n",
        "fig.suptitle('Response Analysis')\n",
        "\n",
        "feature= 0\n",
        "for row in range(0, 5):\n",
        "  for col in range(0, 5):\n",
        "    sns.histplot(ax= axes[row, col], data= df, x= cols[feature], hue= \"Response\", multiple= \"stack\")\n",
        "    feature += 1"
      ]
    },
    {
      "cell_type": "markdown",
      "metadata": {},
      "source": [
        "Deleting columns Complain, AcceptedCmp2, Marital_Status_Widow after multiple tests, this features showed no importance to the final model."
      ]
    },
    {
      "cell_type": "code",
      "execution_count": 35,
      "metadata": {},
      "outputs": [],
      "source": [
        "df.drop(columns=['Complain','AcceptedCmp2'],inplace=True)"
      ]
    },
    {
      "cell_type": "markdown",
      "metadata": {
        "id": "cQCXbQI0M13F"
      },
      "source": [
        "# Dataset preparation to run models"
      ]
    },
    {
      "cell_type": "markdown",
      "metadata": {
        "id": "X5U2isvkbmIM"
      },
      "source": [
        "## Dummy Features"
      ]
    },
    {
      "cell_type": "markdown",
      "metadata": {
        "id": "YjmMv9CtnWy9"
      },
      "source": [
        "### Marital_Status (nominal)"
      ]
    },
    {
      "cell_type": "code",
      "execution_count": 36,
      "metadata": {
        "colab": {
          "base_uri": "https://localhost:8080/",
          "height": 143
        },
        "id": "GIYHewoxncF9",
        "outputId": "a2f577d8-45bd-41db-d6ac-b08a8da737ea"
      },
      "outputs": [
        {
          "data": {
            "text/html": [
              "<div>\n",
              "<style scoped>\n",
              "    .dataframe tbody tr th:only-of-type {\n",
              "        vertical-align: middle;\n",
              "    }\n",
              "\n",
              "    .dataframe tbody tr th {\n",
              "        vertical-align: top;\n",
              "    }\n",
              "\n",
              "    .dataframe thead th {\n",
              "        text-align: right;\n",
              "    }\n",
              "</style>\n",
              "<table border=\"1\" class=\"dataframe\">\n",
              "  <thead>\n",
              "    <tr style=\"text-align: right;\">\n",
              "      <th></th>\n",
              "      <th>Marital_Status_Married</th>\n",
              "      <th>Marital_Status_Single</th>\n",
              "      <th>Marital_Status_Together</th>\n",
              "      <th>Marital_Status_Widow</th>\n",
              "    </tr>\n",
              "  </thead>\n",
              "  <tbody>\n",
              "    <tr>\n",
              "      <th>0</th>\n",
              "      <td>0</td>\n",
              "      <td>1</td>\n",
              "      <td>0</td>\n",
              "      <td>0</td>\n",
              "    </tr>\n",
              "    <tr>\n",
              "      <th>1</th>\n",
              "      <td>0</td>\n",
              "      <td>1</td>\n",
              "      <td>0</td>\n",
              "      <td>0</td>\n",
              "    </tr>\n",
              "    <tr>\n",
              "      <th>2</th>\n",
              "      <td>0</td>\n",
              "      <td>0</td>\n",
              "      <td>1</td>\n",
              "      <td>0</td>\n",
              "    </tr>\n",
              "  </tbody>\n",
              "</table>\n",
              "</div>"
            ],
            "text/plain": [
              "   Marital_Status_Married  Marital_Status_Single  Marital_Status_Together  \\\n",
              "0                       0                      1                        0   \n",
              "1                       0                      1                        0   \n",
              "2                       0                      0                        1   \n",
              "\n",
              "   Marital_Status_Widow  \n",
              "0                     0  \n",
              "1                     0  \n",
              "2                     0  "
            ]
          },
          "execution_count": 36,
          "metadata": {},
          "output_type": "execute_result"
        }
      ],
      "source": [
        "marital_aux = pd.get_dummies(df['Marital_Status'], prefix='Marital_Status', drop_first= True)\n",
        "marital_aux.head(3)"
      ]
    },
    {
      "cell_type": "code",
      "execution_count": 37,
      "metadata": {
        "id": "Kc4j8EMijhMh"
      },
      "outputs": [],
      "source": [
        "df = pd.concat([df, marital_aux], axis= 1)\n",
        "df.drop(columns=['Marital_Status'], axis= 1, inplace=True)"
      ]
    },
    {
      "cell_type": "markdown",
      "metadata": {
        "id": "lPkioy9xnccx"
      },
      "source": [
        "### Education (ordinal)\n",
        "[Basic: 0, Graduation: 1, 2n Cycle: 2, Master: 3, PhD: 4]"
      ]
    },
    {
      "cell_type": "code",
      "execution_count": 38,
      "metadata": {
        "id": "4FEIERqDiGBw"
      },
      "outputs": [],
      "source": [
        "label_encoder = LabelEncoder()\n",
        "\n",
        "df['Education'] = label_encoder.fit_transform(df['Education'])"
      ]
    },
    {
      "cell_type": "code",
      "execution_count": 39,
      "metadata": {
        "colab": {
          "base_uri": "https://localhost:8080/",
          "height": 163
        },
        "id": "kUUNpdiSmdTH",
        "outputId": "28a2d4c2-561b-484d-af3e-ceef36f51bd7"
      },
      "outputs": [
        {
          "data": {
            "text/html": [
              "<div>\n",
              "<style scoped>\n",
              "    .dataframe tbody tr th:only-of-type {\n",
              "        vertical-align: middle;\n",
              "    }\n",
              "\n",
              "    .dataframe tbody tr th {\n",
              "        vertical-align: top;\n",
              "    }\n",
              "\n",
              "    .dataframe thead th {\n",
              "        text-align: right;\n",
              "    }\n",
              "</style>\n",
              "<table border=\"1\" class=\"dataframe\">\n",
              "  <thead>\n",
              "    <tr style=\"text-align: right;\">\n",
              "      <th></th>\n",
              "      <th>AcceptedCmp1</th>\n",
              "      <th>AcceptedCmp3</th>\n",
              "      <th>AcceptedCmp4</th>\n",
              "      <th>AcceptedCmp5</th>\n",
              "      <th>Age</th>\n",
              "      <th>Education</th>\n",
              "      <th>Income</th>\n",
              "      <th>Kidhome</th>\n",
              "      <th>MntFishProducts</th>\n",
              "      <th>MntFruits</th>\n",
              "      <th>MntGoldProds</th>\n",
              "      <th>MntMeatProducts</th>\n",
              "      <th>MntSweetProducts</th>\n",
              "      <th>MntWines</th>\n",
              "      <th>NumCatalogPurchases</th>\n",
              "      <th>NumDealsPurchases</th>\n",
              "      <th>NumStorePurchases</th>\n",
              "      <th>NumWebPurchases</th>\n",
              "      <th>NumWebVisitsMonth</th>\n",
              "      <th>Recency</th>\n",
              "      <th>Teenhome</th>\n",
              "      <th>Time_Days_Customer</th>\n",
              "      <th>Response</th>\n",
              "      <th>Marital_Status_Married</th>\n",
              "      <th>Marital_Status_Single</th>\n",
              "      <th>Marital_Status_Together</th>\n",
              "      <th>Marital_Status_Widow</th>\n",
              "    </tr>\n",
              "  </thead>\n",
              "  <tbody>\n",
              "    <tr>\n",
              "      <th>0</th>\n",
              "      <td>0</td>\n",
              "      <td>0</td>\n",
              "      <td>0</td>\n",
              "      <td>0</td>\n",
              "      <td>63</td>\n",
              "      <td>2</td>\n",
              "      <td>58138</td>\n",
              "      <td>0</td>\n",
              "      <td>172</td>\n",
              "      <td>88</td>\n",
              "      <td>88</td>\n",
              "      <td>546</td>\n",
              "      <td>88</td>\n",
              "      <td>635</td>\n",
              "      <td>10</td>\n",
              "      <td>3</td>\n",
              "      <td>4</td>\n",
              "      <td>8</td>\n",
              "      <td>7</td>\n",
              "      <td>58</td>\n",
              "      <td>0</td>\n",
              "      <td>2724</td>\n",
              "      <td>1</td>\n",
              "      <td>0</td>\n",
              "      <td>1</td>\n",
              "      <td>0</td>\n",
              "      <td>0</td>\n",
              "    </tr>\n",
              "    <tr>\n",
              "      <th>1</th>\n",
              "      <td>0</td>\n",
              "      <td>0</td>\n",
              "      <td>0</td>\n",
              "      <td>0</td>\n",
              "      <td>66</td>\n",
              "      <td>2</td>\n",
              "      <td>46344</td>\n",
              "      <td>1</td>\n",
              "      <td>2</td>\n",
              "      <td>1</td>\n",
              "      <td>6</td>\n",
              "      <td>6</td>\n",
              "      <td>1</td>\n",
              "      <td>11</td>\n",
              "      <td>1</td>\n",
              "      <td>2</td>\n",
              "      <td>2</td>\n",
              "      <td>1</td>\n",
              "      <td>5</td>\n",
              "      <td>38</td>\n",
              "      <td>1</td>\n",
              "      <td>2174</td>\n",
              "      <td>0</td>\n",
              "      <td>0</td>\n",
              "      <td>1</td>\n",
              "      <td>0</td>\n",
              "      <td>0</td>\n",
              "    </tr>\n",
              "    <tr>\n",
              "      <th>2</th>\n",
              "      <td>0</td>\n",
              "      <td>0</td>\n",
              "      <td>0</td>\n",
              "      <td>0</td>\n",
              "      <td>55</td>\n",
              "      <td>2</td>\n",
              "      <td>71613</td>\n",
              "      <td>0</td>\n",
              "      <td>111</td>\n",
              "      <td>49</td>\n",
              "      <td>42</td>\n",
              "      <td>127</td>\n",
              "      <td>21</td>\n",
              "      <td>426</td>\n",
              "      <td>2</td>\n",
              "      <td>1</td>\n",
              "      <td>10</td>\n",
              "      <td>8</td>\n",
              "      <td>4</td>\n",
              "      <td>26</td>\n",
              "      <td>0</td>\n",
              "      <td>2373</td>\n",
              "      <td>0</td>\n",
              "      <td>0</td>\n",
              "      <td>0</td>\n",
              "      <td>1</td>\n",
              "      <td>0</td>\n",
              "    </tr>\n",
              "  </tbody>\n",
              "</table>\n",
              "</div>"
            ],
            "text/plain": [
              "   AcceptedCmp1  AcceptedCmp3  AcceptedCmp4  AcceptedCmp5  Age  Education  \\\n",
              "0             0             0             0             0   63          2   \n",
              "1             0             0             0             0   66          2   \n",
              "2             0             0             0             0   55          2   \n",
              "\n",
              "   Income  Kidhome  MntFishProducts  MntFruits  MntGoldProds  MntMeatProducts  \\\n",
              "0   58138        0              172         88            88              546   \n",
              "1   46344        1                2          1             6                6   \n",
              "2   71613        0              111         49            42              127   \n",
              "\n",
              "   MntSweetProducts  MntWines  NumCatalogPurchases  NumDealsPurchases  \\\n",
              "0                88       635                   10                  3   \n",
              "1                 1        11                    1                  2   \n",
              "2                21       426                    2                  1   \n",
              "\n",
              "   NumStorePurchases  NumWebPurchases  NumWebVisitsMonth  Recency  Teenhome  \\\n",
              "0                  4                8                  7       58         0   \n",
              "1                  2                1                  5       38         1   \n",
              "2                 10                8                  4       26         0   \n",
              "\n",
              "   Time_Days_Customer  Response  Marital_Status_Married  \\\n",
              "0                2724         1                       0   \n",
              "1                2174         0                       0   \n",
              "2                2373         0                       0   \n",
              "\n",
              "   Marital_Status_Single  Marital_Status_Together  Marital_Status_Widow  \n",
              "0                      1                        0                     0  \n",
              "1                      1                        0                     0  \n",
              "2                      0                        1                     0  "
            ]
          },
          "execution_count": 39,
          "metadata": {},
          "output_type": "execute_result"
        }
      ],
      "source": [
        "df.head(3)"
      ]
    },
    {
      "cell_type": "markdown",
      "metadata": {
        "id": "-JO3ioOPZWQV"
      },
      "source": [
        "\n",
        "## Train Test Split"
      ]
    },
    {
      "cell_type": "code",
      "execution_count": 40,
      "metadata": {
        "colab": {
          "base_uri": "https://localhost:8080/"
        },
        "id": "xvVmwfuXZhIE",
        "outputId": "795f2f88-a480-41cf-cc52-cdd5af9a1c0e"
      },
      "outputs": [
        {
          "name": "stdout",
          "output_type": "stream",
          "text": [
            "Data for Modeling: (1928, 27)\n",
            "Unseen Data For Predictions: (102, 27)\n"
          ]
        }
      ],
      "source": [
        "# sample 5% of data to be used as unseen data\n",
        "df_train_test = df.sample(frac= 0.95, random_state= 123)\n",
        "df_train_test.reset_index(inplace= True, drop= True)\n",
        "\n",
        "df_valid = df.drop(df_train_test.index)\n",
        "df_valid.reset_index(inplace= True, drop= True)\n",
        "\n",
        "print('Data for Modeling: ' + str(df_train_test.shape))\n",
        "print('Unseen Data For Predictions: ' + str(df_valid.shape))"
      ]
    },
    {
      "cell_type": "markdown",
      "metadata": {
        "id": "f3GKvMNKks4X"
      },
      "source": [
        "# Predictive Model"
      ]
    },
    {
      "cell_type": "code",
      "execution_count": 41,
      "metadata": {
        "colab": {
          "base_uri": "https://localhost:8080/",
          "height": 833
        },
        "id": "K5coJ9XPkxWa",
        "outputId": "73e6a0be-f13d-4aa9-f792-42af5db4a8a4"
      },
      "outputs": [
        {
          "data": {
            "text/html": [
              "<style type=\"text/css\">\n",
              "#T_b7ce9_row8_col1, #T_b7ce9_row12_col1, #T_b7ce9_row14_col1, #T_b7ce9_row16_col1 {\n",
              "  background-color: lightgreen;\n",
              "}\n",
              "</style>\n",
              "<table id=\"T_b7ce9\">\n",
              "  <thead>\n",
              "    <tr>\n",
              "      <th class=\"blank level0\" >&nbsp;</th>\n",
              "      <th id=\"T_b7ce9_level0_col0\" class=\"col_heading level0 col0\" >Description</th>\n",
              "      <th id=\"T_b7ce9_level0_col1\" class=\"col_heading level0 col1\" >Value</th>\n",
              "    </tr>\n",
              "  </thead>\n",
              "  <tbody>\n",
              "    <tr>\n",
              "      <th id=\"T_b7ce9_level0_row0\" class=\"row_heading level0 row0\" >0</th>\n",
              "      <td id=\"T_b7ce9_row0_col0\" class=\"data row0 col0\" >Session id</td>\n",
              "      <td id=\"T_b7ce9_row0_col1\" class=\"data row0 col1\" >123</td>\n",
              "    </tr>\n",
              "    <tr>\n",
              "      <th id=\"T_b7ce9_level0_row1\" class=\"row_heading level0 row1\" >1</th>\n",
              "      <td id=\"T_b7ce9_row1_col0\" class=\"data row1 col0\" >Target</td>\n",
              "      <td id=\"T_b7ce9_row1_col1\" class=\"data row1 col1\" >Response</td>\n",
              "    </tr>\n",
              "    <tr>\n",
              "      <th id=\"T_b7ce9_level0_row2\" class=\"row_heading level0 row2\" >2</th>\n",
              "      <td id=\"T_b7ce9_row2_col0\" class=\"data row2 col0\" >Target type</td>\n",
              "      <td id=\"T_b7ce9_row2_col1\" class=\"data row2 col1\" >Binary</td>\n",
              "    </tr>\n",
              "    <tr>\n",
              "      <th id=\"T_b7ce9_level0_row3\" class=\"row_heading level0 row3\" >3</th>\n",
              "      <td id=\"T_b7ce9_row3_col0\" class=\"data row3 col0\" >Original data shape</td>\n",
              "      <td id=\"T_b7ce9_row3_col1\" class=\"data row3 col1\" >(1928, 27)</td>\n",
              "    </tr>\n",
              "    <tr>\n",
              "      <th id=\"T_b7ce9_level0_row4\" class=\"row_heading level0 row4\" >4</th>\n",
              "      <td id=\"T_b7ce9_row4_col0\" class=\"data row4 col0\" >Transformed data shape</td>\n",
              "      <td id=\"T_b7ce9_row4_col1\" class=\"data row4 col1\" >(2805, 27)</td>\n",
              "    </tr>\n",
              "    <tr>\n",
              "      <th id=\"T_b7ce9_level0_row5\" class=\"row_heading level0 row5\" >5</th>\n",
              "      <td id=\"T_b7ce9_row5_col0\" class=\"data row5 col0\" >Transformed train set shape</td>\n",
              "      <td id=\"T_b7ce9_row5_col1\" class=\"data row5 col1\" >(2226, 27)</td>\n",
              "    </tr>\n",
              "    <tr>\n",
              "      <th id=\"T_b7ce9_level0_row6\" class=\"row_heading level0 row6\" >6</th>\n",
              "      <td id=\"T_b7ce9_row6_col0\" class=\"data row6 col0\" >Transformed test set shape</td>\n",
              "      <td id=\"T_b7ce9_row6_col1\" class=\"data row6 col1\" >(579, 27)</td>\n",
              "    </tr>\n",
              "    <tr>\n",
              "      <th id=\"T_b7ce9_level0_row7\" class=\"row_heading level0 row7\" >7</th>\n",
              "      <td id=\"T_b7ce9_row7_col0\" class=\"data row7 col0\" >Numeric features</td>\n",
              "      <td id=\"T_b7ce9_row7_col1\" class=\"data row7 col1\" >26</td>\n",
              "    </tr>\n",
              "    <tr>\n",
              "      <th id=\"T_b7ce9_level0_row8\" class=\"row_heading level0 row8\" >8</th>\n",
              "      <td id=\"T_b7ce9_row8_col0\" class=\"data row8 col0\" >Preprocess</td>\n",
              "      <td id=\"T_b7ce9_row8_col1\" class=\"data row8 col1\" >True</td>\n",
              "    </tr>\n",
              "    <tr>\n",
              "      <th id=\"T_b7ce9_level0_row9\" class=\"row_heading level0 row9\" >9</th>\n",
              "      <td id=\"T_b7ce9_row9_col0\" class=\"data row9 col0\" >Imputation type</td>\n",
              "      <td id=\"T_b7ce9_row9_col1\" class=\"data row9 col1\" >simple</td>\n",
              "    </tr>\n",
              "    <tr>\n",
              "      <th id=\"T_b7ce9_level0_row10\" class=\"row_heading level0 row10\" >10</th>\n",
              "      <td id=\"T_b7ce9_row10_col0\" class=\"data row10 col0\" >Numeric imputation</td>\n",
              "      <td id=\"T_b7ce9_row10_col1\" class=\"data row10 col1\" >mean</td>\n",
              "    </tr>\n",
              "    <tr>\n",
              "      <th id=\"T_b7ce9_level0_row11\" class=\"row_heading level0 row11\" >11</th>\n",
              "      <td id=\"T_b7ce9_row11_col0\" class=\"data row11 col0\" >Categorical imputation</td>\n",
              "      <td id=\"T_b7ce9_row11_col1\" class=\"data row11 col1\" >mode</td>\n",
              "    </tr>\n",
              "    <tr>\n",
              "      <th id=\"T_b7ce9_level0_row12\" class=\"row_heading level0 row12\" >12</th>\n",
              "      <td id=\"T_b7ce9_row12_col0\" class=\"data row12 col0\" >Remove outliers</td>\n",
              "      <td id=\"T_b7ce9_row12_col1\" class=\"data row12 col1\" >True</td>\n",
              "    </tr>\n",
              "    <tr>\n",
              "      <th id=\"T_b7ce9_level0_row13\" class=\"row_heading level0 row13\" >13</th>\n",
              "      <td id=\"T_b7ce9_row13_col0\" class=\"data row13 col0\" >Outliers threshold</td>\n",
              "      <td id=\"T_b7ce9_row13_col1\" class=\"data row13 col1\" >0.050000</td>\n",
              "    </tr>\n",
              "    <tr>\n",
              "      <th id=\"T_b7ce9_level0_row14\" class=\"row_heading level0 row14\" >14</th>\n",
              "      <td id=\"T_b7ce9_row14_col0\" class=\"data row14 col0\" >Fix imbalance</td>\n",
              "      <td id=\"T_b7ce9_row14_col1\" class=\"data row14 col1\" >True</td>\n",
              "    </tr>\n",
              "    <tr>\n",
              "      <th id=\"T_b7ce9_level0_row15\" class=\"row_heading level0 row15\" >15</th>\n",
              "      <td id=\"T_b7ce9_row15_col0\" class=\"data row15 col0\" >Fix imbalance method</td>\n",
              "      <td id=\"T_b7ce9_row15_col1\" class=\"data row15 col1\" >SMOTE</td>\n",
              "    </tr>\n",
              "    <tr>\n",
              "      <th id=\"T_b7ce9_level0_row16\" class=\"row_heading level0 row16\" >16</th>\n",
              "      <td id=\"T_b7ce9_row16_col0\" class=\"data row16 col0\" >Normalize</td>\n",
              "      <td id=\"T_b7ce9_row16_col1\" class=\"data row16 col1\" >True</td>\n",
              "    </tr>\n",
              "    <tr>\n",
              "      <th id=\"T_b7ce9_level0_row17\" class=\"row_heading level0 row17\" >17</th>\n",
              "      <td id=\"T_b7ce9_row17_col0\" class=\"data row17 col0\" >Normalize method</td>\n",
              "      <td id=\"T_b7ce9_row17_col1\" class=\"data row17 col1\" >minmax</td>\n",
              "    </tr>\n",
              "    <tr>\n",
              "      <th id=\"T_b7ce9_level0_row18\" class=\"row_heading level0 row18\" >18</th>\n",
              "      <td id=\"T_b7ce9_row18_col0\" class=\"data row18 col0\" >Fold Generator</td>\n",
              "      <td id=\"T_b7ce9_row18_col1\" class=\"data row18 col1\" >StratifiedKFold</td>\n",
              "    </tr>\n",
              "    <tr>\n",
              "      <th id=\"T_b7ce9_level0_row19\" class=\"row_heading level0 row19\" >19</th>\n",
              "      <td id=\"T_b7ce9_row19_col0\" class=\"data row19 col0\" >Fold Number</td>\n",
              "      <td id=\"T_b7ce9_row19_col1\" class=\"data row19 col1\" >10</td>\n",
              "    </tr>\n",
              "    <tr>\n",
              "      <th id=\"T_b7ce9_level0_row20\" class=\"row_heading level0 row20\" >20</th>\n",
              "      <td id=\"T_b7ce9_row20_col0\" class=\"data row20 col0\" >CPU Jobs</td>\n",
              "      <td id=\"T_b7ce9_row20_col1\" class=\"data row20 col1\" >-1</td>\n",
              "    </tr>\n",
              "    <tr>\n",
              "      <th id=\"T_b7ce9_level0_row21\" class=\"row_heading level0 row21\" >21</th>\n",
              "      <td id=\"T_b7ce9_row21_col0\" class=\"data row21 col0\" >Use GPU</td>\n",
              "      <td id=\"T_b7ce9_row21_col1\" class=\"data row21 col1\" >False</td>\n",
              "    </tr>\n",
              "    <tr>\n",
              "      <th id=\"T_b7ce9_level0_row22\" class=\"row_heading level0 row22\" >22</th>\n",
              "      <td id=\"T_b7ce9_row22_col0\" class=\"data row22 col0\" >Log Experiment</td>\n",
              "      <td id=\"T_b7ce9_row22_col1\" class=\"data row22 col1\" >False</td>\n",
              "    </tr>\n",
              "    <tr>\n",
              "      <th id=\"T_b7ce9_level0_row23\" class=\"row_heading level0 row23\" >23</th>\n",
              "      <td id=\"T_b7ce9_row23_col0\" class=\"data row23 col0\" >Experiment Name</td>\n",
              "      <td id=\"T_b7ce9_row23_col1\" class=\"data row23 col1\" >clf-default-name</td>\n",
              "    </tr>\n",
              "    <tr>\n",
              "      <th id=\"T_b7ce9_level0_row24\" class=\"row_heading level0 row24\" >24</th>\n",
              "      <td id=\"T_b7ce9_row24_col0\" class=\"data row24 col0\" >USI</td>\n",
              "      <td id=\"T_b7ce9_row24_col1\" class=\"data row24 col1\" >fec5</td>\n",
              "    </tr>\n",
              "  </tbody>\n",
              "</table>\n"
            ],
            "text/plain": [
              "<pandas.io.formats.style.Styler at 0x286ea1001f0>"
            ]
          },
          "metadata": {},
          "output_type": "display_data"
        }
      ],
      "source": [
        "s = setup(data= df_train_test,\n",
        "          target= 'Response',\n",
        "          fix_imbalance= True,\n",
        "          remove_outliers= True,\n",
        "          normalize= True,\n",
        "          normalize_method= 'minmax',\n",
        "          session_id= 123\n",
        ")"
      ]
    },
    {
      "cell_type": "code",
      "execution_count": 42,
      "metadata": {
        "colab": {
          "base_uri": "https://localhost:8080/",
          "height": 519,
          "referenced_widgets": [
            "5e1651b1dec34501ab5963fdb9057c0d",
            "41fd29090c0244e5af10a4ba6ab620f2",
            "0cddb18d28c545499e1a53d3d10d6d0e",
            "99123086f3894107a79b5877f1aa6673",
            "c8b48293528c474cbf0205ecc02d7bd0",
            "f88eb252194f449f8d95d519a4ebd646",
            "993d56d456574a6086c47d0e5e94d23c",
            "b5a17978f0944d9e8091cb470e7a8717",
            "c5534299028349419abd5399c903139e",
            "7ad8d6d3d5f84eeb84fc1efb67483182",
            "c3dc3c3d97e547cd975b1f1e13685340"
          ]
        },
        "id": "hU8vcXB60wbQ",
        "outputId": "464a3031-8fb1-44a9-f6b8-b2347d38c662"
      },
      "outputs": [
        {
          "data": {
            "text/html": [],
            "text/plain": [
              "<IPython.core.display.HTML object>"
            ]
          },
          "metadata": {},
          "output_type": "display_data"
        },
        {
          "data": {
            "text/html": [
              "<style type=\"text/css\">\n",
              "#T_7edcb th {\n",
              "  text-align: left;\n",
              "}\n",
              "#T_7edcb_row0_col0, #T_7edcb_row0_col1, #T_7edcb_row0_col3, #T_7edcb_row0_col4, #T_7edcb_row0_col5, #T_7edcb_row0_col6, #T_7edcb_row0_col7, #T_7edcb_row1_col0, #T_7edcb_row1_col1, #T_7edcb_row1_col2, #T_7edcb_row1_col3, #T_7edcb_row1_col4, #T_7edcb_row1_col5, #T_7edcb_row1_col6, #T_7edcb_row1_col7, #T_7edcb_row2_col0, #T_7edcb_row2_col1, #T_7edcb_row2_col2, #T_7edcb_row2_col3, #T_7edcb_row2_col4, #T_7edcb_row2_col5, #T_7edcb_row2_col6, #T_7edcb_row2_col7, #T_7edcb_row3_col0, #T_7edcb_row3_col1, #T_7edcb_row3_col2, #T_7edcb_row3_col4, #T_7edcb_row3_col5, #T_7edcb_row3_col6, #T_7edcb_row3_col7, #T_7edcb_row4_col0, #T_7edcb_row4_col1, #T_7edcb_row4_col2, #T_7edcb_row4_col3, #T_7edcb_row4_col4, #T_7edcb_row4_col5, #T_7edcb_row4_col6, #T_7edcb_row4_col7, #T_7edcb_row5_col0, #T_7edcb_row5_col2, #T_7edcb_row5_col3, #T_7edcb_row5_col4, #T_7edcb_row5_col5, #T_7edcb_row5_col6, #T_7edcb_row5_col7, #T_7edcb_row6_col0, #T_7edcb_row6_col1, #T_7edcb_row6_col2, #T_7edcb_row6_col3, #T_7edcb_row6_col4, #T_7edcb_row6_col5, #T_7edcb_row6_col6, #T_7edcb_row6_col7, #T_7edcb_row7_col0, #T_7edcb_row7_col1, #T_7edcb_row7_col2, #T_7edcb_row7_col3, #T_7edcb_row7_col4, #T_7edcb_row8_col0, #T_7edcb_row8_col1, #T_7edcb_row8_col2, #T_7edcb_row8_col3, #T_7edcb_row8_col5, #T_7edcb_row8_col6, #T_7edcb_row8_col7, #T_7edcb_row9_col0, #T_7edcb_row9_col1, #T_7edcb_row9_col2, #T_7edcb_row9_col3, #T_7edcb_row9_col4, #T_7edcb_row9_col5, #T_7edcb_row9_col6, #T_7edcb_row9_col7, #T_7edcb_row10_col0, #T_7edcb_row10_col1, #T_7edcb_row10_col2, #T_7edcb_row10_col3, #T_7edcb_row10_col4, #T_7edcb_row10_col5, #T_7edcb_row10_col6, #T_7edcb_row10_col7, #T_7edcb_row11_col0, #T_7edcb_row11_col1, #T_7edcb_row11_col2, #T_7edcb_row11_col3, #T_7edcb_row11_col4, #T_7edcb_row11_col5, #T_7edcb_row11_col6, #T_7edcb_row11_col7, #T_7edcb_row12_col0, #T_7edcb_row12_col1, #T_7edcb_row12_col2, #T_7edcb_row12_col3, #T_7edcb_row12_col4, #T_7edcb_row12_col5, #T_7edcb_row12_col6, #T_7edcb_row12_col7, #T_7edcb_row13_col0, #T_7edcb_row13_col1, #T_7edcb_row13_col2, #T_7edcb_row13_col3, #T_7edcb_row13_col4, #T_7edcb_row13_col5, #T_7edcb_row13_col6, #T_7edcb_row13_col7 {\n",
              "  text-align: left;\n",
              "}\n",
              "#T_7edcb_row0_col2, #T_7edcb_row3_col3, #T_7edcb_row5_col1, #T_7edcb_row7_col5, #T_7edcb_row7_col6, #T_7edcb_row7_col7, #T_7edcb_row8_col4 {\n",
              "  text-align: left;\n",
              "  background-color: yellow;\n",
              "}\n",
              "#T_7edcb_row0_col8, #T_7edcb_row2_col8, #T_7edcb_row3_col8, #T_7edcb_row4_col8, #T_7edcb_row5_col8, #T_7edcb_row6_col8, #T_7edcb_row7_col8, #T_7edcb_row8_col8, #T_7edcb_row9_col8, #T_7edcb_row11_col8, #T_7edcb_row12_col8 {\n",
              "  text-align: left;\n",
              "  background-color: lightgrey;\n",
              "}\n",
              "#T_7edcb_row1_col8, #T_7edcb_row10_col8, #T_7edcb_row13_col8 {\n",
              "  text-align: left;\n",
              "  background-color: yellow;\n",
              "  background-color: lightgrey;\n",
              "}\n",
              "</style>\n",
              "<table id=\"T_7edcb\">\n",
              "  <thead>\n",
              "    <tr>\n",
              "      <th class=\"blank level0\" >&nbsp;</th>\n",
              "      <th id=\"T_7edcb_level0_col0\" class=\"col_heading level0 col0\" >Model</th>\n",
              "      <th id=\"T_7edcb_level0_col1\" class=\"col_heading level0 col1\" >Accuracy</th>\n",
              "      <th id=\"T_7edcb_level0_col2\" class=\"col_heading level0 col2\" >AUC</th>\n",
              "      <th id=\"T_7edcb_level0_col3\" class=\"col_heading level0 col3\" >Recall</th>\n",
              "      <th id=\"T_7edcb_level0_col4\" class=\"col_heading level0 col4\" >Prec.</th>\n",
              "      <th id=\"T_7edcb_level0_col5\" class=\"col_heading level0 col5\" >F1</th>\n",
              "      <th id=\"T_7edcb_level0_col6\" class=\"col_heading level0 col6\" >Kappa</th>\n",
              "      <th id=\"T_7edcb_level0_col7\" class=\"col_heading level0 col7\" >MCC</th>\n",
              "      <th id=\"T_7edcb_level0_col8\" class=\"col_heading level0 col8\" >TT (Sec)</th>\n",
              "    </tr>\n",
              "  </thead>\n",
              "  <tbody>\n",
              "    <tr>\n",
              "      <th id=\"T_7edcb_level0_row0\" class=\"row_heading level0 row0\" >lr</th>\n",
              "      <td id=\"T_7edcb_row0_col0\" class=\"data row0 col0\" >Logistic Regression</td>\n",
              "      <td id=\"T_7edcb_row0_col1\" class=\"data row0 col1\" >0.7924</td>\n",
              "      <td id=\"T_7edcb_row0_col2\" class=\"data row0 col2\" >0.8936</td>\n",
              "      <td id=\"T_7edcb_row0_col3\" class=\"data row0 col3\" >0.7990</td>\n",
              "      <td id=\"T_7edcb_row0_col4\" class=\"data row0 col4\" >0.4096</td>\n",
              "      <td id=\"T_7edcb_row0_col5\" class=\"data row0 col5\" >0.5387</td>\n",
              "      <td id=\"T_7edcb_row0_col6\" class=\"data row0 col6\" >0.4238</td>\n",
              "      <td id=\"T_7edcb_row0_col7\" class=\"data row0 col7\" >0.4649</td>\n",
              "      <td id=\"T_7edcb_row0_col8\" class=\"data row0 col8\" >0.3520</td>\n",
              "    </tr>\n",
              "    <tr>\n",
              "      <th id=\"T_7edcb_level0_row1\" class=\"row_heading level0 row1\" >ridge</th>\n",
              "      <td id=\"T_7edcb_row1_col0\" class=\"data row1 col0\" >Ridge Classifier</td>\n",
              "      <td id=\"T_7edcb_row1_col1\" class=\"data row1 col1\" >0.7902</td>\n",
              "      <td id=\"T_7edcb_row1_col2\" class=\"data row1 col2\" >0.8923</td>\n",
              "      <td id=\"T_7edcb_row1_col3\" class=\"data row1 col3\" >0.8086</td>\n",
              "      <td id=\"T_7edcb_row1_col4\" class=\"data row1 col4\" >0.4080</td>\n",
              "      <td id=\"T_7edcb_row1_col5\" class=\"data row1 col5\" >0.5393</td>\n",
              "      <td id=\"T_7edcb_row1_col6\" class=\"data row1 col6\" >0.4238</td>\n",
              "      <td id=\"T_7edcb_row1_col7\" class=\"data row1 col7\" >0.4672</td>\n",
              "      <td id=\"T_7edcb_row1_col8\" class=\"data row1 col8\" >0.0240</td>\n",
              "    </tr>\n",
              "    <tr>\n",
              "      <th id=\"T_7edcb_level0_row2\" class=\"row_heading level0 row2\" >lda</th>\n",
              "      <td id=\"T_7edcb_row2_col0\" class=\"data row2 col0\" >Linear Discriminant Analysis</td>\n",
              "      <td id=\"T_7edcb_row2_col1\" class=\"data row2 col1\" >0.7925</td>\n",
              "      <td id=\"T_7edcb_row2_col2\" class=\"data row2 col2\" >0.8915</td>\n",
              "      <td id=\"T_7edcb_row2_col3\" class=\"data row2 col3\" >0.8133</td>\n",
              "      <td id=\"T_7edcb_row2_col4\" class=\"data row2 col4\" >0.4104</td>\n",
              "      <td id=\"T_7edcb_row2_col5\" class=\"data row2 col5\" >0.5430</td>\n",
              "      <td id=\"T_7edcb_row2_col6\" class=\"data row2 col6\" >0.4284</td>\n",
              "      <td id=\"T_7edcb_row2_col7\" class=\"data row2 col7\" >0.4720</td>\n",
              "      <td id=\"T_7edcb_row2_col8\" class=\"data row2 col8\" >0.0280</td>\n",
              "    </tr>\n",
              "    <tr>\n",
              "      <th id=\"T_7edcb_level0_row3\" class=\"row_heading level0 row3\" >svm</th>\n",
              "      <td id=\"T_7edcb_row3_col0\" class=\"data row3 col0\" >SVM - Linear Kernel</td>\n",
              "      <td id=\"T_7edcb_row3_col1\" class=\"data row3 col1\" >0.7494</td>\n",
              "      <td id=\"T_7edcb_row3_col2\" class=\"data row3 col2\" >0.8881</td>\n",
              "      <td id=\"T_7edcb_row3_col3\" class=\"data row3 col3\" >0.8667</td>\n",
              "      <td id=\"T_7edcb_row3_col4\" class=\"data row3 col4\" >0.3734</td>\n",
              "      <td id=\"T_7edcb_row3_col5\" class=\"data row3 col5\" >0.5169</td>\n",
              "      <td id=\"T_7edcb_row3_col6\" class=\"data row3 col6\" >0.3867</td>\n",
              "      <td id=\"T_7edcb_row3_col7\" class=\"data row3 col7\" >0.4510</td>\n",
              "      <td id=\"T_7edcb_row3_col8\" class=\"data row3 col8\" >0.0260</td>\n",
              "    </tr>\n",
              "    <tr>\n",
              "      <th id=\"T_7edcb_level0_row4\" class=\"row_heading level0 row4\" >gbc</th>\n",
              "      <td id=\"T_7edcb_row4_col0\" class=\"data row4 col0\" >Gradient Boosting Classifier</td>\n",
              "      <td id=\"T_7edcb_row4_col1\" class=\"data row4 col1\" >0.8732</td>\n",
              "      <td id=\"T_7edcb_row4_col2\" class=\"data row4 col2\" >0.8865</td>\n",
              "      <td id=\"T_7edcb_row4_col3\" class=\"data row4 col3\" >0.4976</td>\n",
              "      <td id=\"T_7edcb_row4_col4\" class=\"data row4 col4\" >0.6076</td>\n",
              "      <td id=\"T_7edcb_row4_col5\" class=\"data row4 col5\" >0.5331</td>\n",
              "      <td id=\"T_7edcb_row4_col6\" class=\"data row4 col6\" >0.4627</td>\n",
              "      <td id=\"T_7edcb_row4_col7\" class=\"data row4 col7\" >0.4733</td>\n",
              "      <td id=\"T_7edcb_row4_col8\" class=\"data row4 col8\" >0.1160</td>\n",
              "    </tr>\n",
              "    <tr>\n",
              "      <th id=\"T_7edcb_level0_row5\" class=\"row_heading level0 row5\" >lightgbm</th>\n",
              "      <td id=\"T_7edcb_row5_col0\" class=\"data row5 col0\" >Light Gradient Boosting Machine</td>\n",
              "      <td id=\"T_7edcb_row5_col1\" class=\"data row5 col1\" >0.8740</td>\n",
              "      <td id=\"T_7edcb_row5_col2\" class=\"data row5 col2\" >0.8833</td>\n",
              "      <td id=\"T_7edcb_row5_col3\" class=\"data row5 col3\" >0.4340</td>\n",
              "      <td id=\"T_7edcb_row5_col4\" class=\"data row5 col4\" >0.6388</td>\n",
              "      <td id=\"T_7edcb_row5_col5\" class=\"data row5 col5\" >0.5055</td>\n",
              "      <td id=\"T_7edcb_row5_col6\" class=\"data row5 col6\" >0.4376</td>\n",
              "      <td id=\"T_7edcb_row5_col7\" class=\"data row5 col7\" >0.4541</td>\n",
              "      <td id=\"T_7edcb_row5_col8\" class=\"data row5 col8\" >0.1220</td>\n",
              "    </tr>\n",
              "    <tr>\n",
              "      <th id=\"T_7edcb_level0_row6\" class=\"row_heading level0 row6\" >rf</th>\n",
              "      <td id=\"T_7edcb_row6_col0\" class=\"data row6 col0\" >Random Forest Classifier</td>\n",
              "      <td id=\"T_7edcb_row6_col1\" class=\"data row6 col1\" >0.8644</td>\n",
              "      <td id=\"T_7edcb_row6_col2\" class=\"data row6 col2\" >0.8678</td>\n",
              "      <td id=\"T_7edcb_row6_col3\" class=\"data row6 col3\" >0.3214</td>\n",
              "      <td id=\"T_7edcb_row6_col4\" class=\"data row6 col4\" >0.6170</td>\n",
              "      <td id=\"T_7edcb_row6_col5\" class=\"data row6 col5\" >0.4065</td>\n",
              "      <td id=\"T_7edcb_row6_col6\" class=\"data row6 col6\" >0.3409</td>\n",
              "      <td id=\"T_7edcb_row6_col7\" class=\"data row6 col7\" >0.3707</td>\n",
              "      <td id=\"T_7edcb_row6_col8\" class=\"data row6 col8\" >0.0700</td>\n",
              "    </tr>\n",
              "    <tr>\n",
              "      <th id=\"T_7edcb_level0_row7\" class=\"row_heading level0 row7\" >ada</th>\n",
              "      <td id=\"T_7edcb_row7_col0\" class=\"data row7 col0\" >Ada Boost Classifier</td>\n",
              "      <td id=\"T_7edcb_row7_col1\" class=\"data row7 col1\" >0.8591</td>\n",
              "      <td id=\"T_7edcb_row7_col2\" class=\"data row7 col2\" >0.8650</td>\n",
              "      <td id=\"T_7edcb_row7_col3\" class=\"data row7 col3\" >0.6114</td>\n",
              "      <td id=\"T_7edcb_row7_col4\" class=\"data row7 col4\" >0.5423</td>\n",
              "      <td id=\"T_7edcb_row7_col5\" class=\"data row7 col5\" >0.5669</td>\n",
              "      <td id=\"T_7edcb_row7_col6\" class=\"data row7 col6\" >0.4844</td>\n",
              "      <td id=\"T_7edcb_row7_col7\" class=\"data row7 col7\" >0.4904</td>\n",
              "      <td id=\"T_7edcb_row7_col8\" class=\"data row7 col8\" >0.0550</td>\n",
              "    </tr>\n",
              "    <tr>\n",
              "      <th id=\"T_7edcb_level0_row8\" class=\"row_heading level0 row8\" >et</th>\n",
              "      <td id=\"T_7edcb_row8_col0\" class=\"data row8 col0\" >Extra Trees Classifier</td>\n",
              "      <td id=\"T_7edcb_row8_col1\" class=\"data row8 col1\" >0.8732</td>\n",
              "      <td id=\"T_7edcb_row8_col2\" class=\"data row8 col2\" >0.8507</td>\n",
              "      <td id=\"T_7edcb_row8_col3\" class=\"data row8 col3\" >0.3605</td>\n",
              "      <td id=\"T_7edcb_row8_col4\" class=\"data row8 col4\" >0.6558</td>\n",
              "      <td id=\"T_7edcb_row8_col5\" class=\"data row8 col5\" >0.4509</td>\n",
              "      <td id=\"T_7edcb_row8_col6\" class=\"data row8 col6\" >0.3886</td>\n",
              "      <td id=\"T_7edcb_row8_col7\" class=\"data row8 col7\" >0.4169</td>\n",
              "      <td id=\"T_7edcb_row8_col8\" class=\"data row8 col8\" >0.0540</td>\n",
              "    </tr>\n",
              "    <tr>\n",
              "      <th id=\"T_7edcb_level0_row9\" class=\"row_heading level0 row9\" >nb</th>\n",
              "      <td id=\"T_7edcb_row9_col0\" class=\"data row9 col0\" >Naive Bayes</td>\n",
              "      <td id=\"T_7edcb_row9_col1\" class=\"data row9 col1\" >0.7806</td>\n",
              "      <td id=\"T_7edcb_row9_col2\" class=\"data row9 col2\" >0.8146</td>\n",
              "      <td id=\"T_7edcb_row9_col3\" class=\"data row9 col3\" >0.6445</td>\n",
              "      <td id=\"T_7edcb_row9_col4\" class=\"data row9 col4\" >0.3810</td>\n",
              "      <td id=\"T_7edcb_row9_col5\" class=\"data row9 col5\" >0.4750</td>\n",
              "      <td id=\"T_7edcb_row9_col6\" class=\"data row9 col6\" >0.3509</td>\n",
              "      <td id=\"T_7edcb_row9_col7\" class=\"data row9 col7\" >0.3714</td>\n",
              "      <td id=\"T_7edcb_row9_col8\" class=\"data row9 col8\" >0.0260</td>\n",
              "    </tr>\n",
              "    <tr>\n",
              "      <th id=\"T_7edcb_level0_row10\" class=\"row_heading level0 row10\" >qda</th>\n",
              "      <td id=\"T_7edcb_row10_col0\" class=\"data row10 col0\" >Quadratic Discriminant Analysis</td>\n",
              "      <td id=\"T_7edcb_row10_col1\" class=\"data row10 col1\" >0.8206</td>\n",
              "      <td id=\"T_7edcb_row10_col2\" class=\"data row10 col2\" >0.8103</td>\n",
              "      <td id=\"T_7edcb_row10_col3\" class=\"data row10 col3\" >0.5755</td>\n",
              "      <td id=\"T_7edcb_row10_col4\" class=\"data row10 col4\" >0.4392</td>\n",
              "      <td id=\"T_7edcb_row10_col5\" class=\"data row10 col5\" >0.4926</td>\n",
              "      <td id=\"T_7edcb_row10_col6\" class=\"data row10 col6\" >0.3875</td>\n",
              "      <td id=\"T_7edcb_row10_col7\" class=\"data row10 col7\" >0.3961</td>\n",
              "      <td id=\"T_7edcb_row10_col8\" class=\"data row10 col8\" >0.0240</td>\n",
              "    </tr>\n",
              "    <tr>\n",
              "      <th id=\"T_7edcb_level0_row11\" class=\"row_heading level0 row11\" >knn</th>\n",
              "      <td id=\"T_7edcb_row11_col0\" class=\"data row11 col0\" >K Neighbors Classifier</td>\n",
              "      <td id=\"T_7edcb_row11_col1\" class=\"data row11 col1\" >0.7636</td>\n",
              "      <td id=\"T_7edcb_row11_col2\" class=\"data row11 col2\" >0.7772</td>\n",
              "      <td id=\"T_7edcb_row11_col3\" class=\"data row11 col3\" >0.6307</td>\n",
              "      <td id=\"T_7edcb_row11_col4\" class=\"data row11 col4\" >0.3513</td>\n",
              "      <td id=\"T_7edcb_row11_col5\" class=\"data row11 col5\" >0.4476</td>\n",
              "      <td id=\"T_7edcb_row11_col6\" class=\"data row11 col6\" >0.3149</td>\n",
              "      <td id=\"T_7edcb_row11_col7\" class=\"data row11 col7\" >0.3383</td>\n",
              "      <td id=\"T_7edcb_row11_col8\" class=\"data row11 col8\" >0.2280</td>\n",
              "    </tr>\n",
              "    <tr>\n",
              "      <th id=\"T_7edcb_level0_row12\" class=\"row_heading level0 row12\" >dt</th>\n",
              "      <td id=\"T_7edcb_row12_col0\" class=\"data row12 col0\" >Decision Tree Classifier</td>\n",
              "      <td id=\"T_7edcb_row12_col1\" class=\"data row12 col1\" >0.8080</td>\n",
              "      <td id=\"T_7edcb_row12_col2\" class=\"data row12 col2\" >0.6575</td>\n",
              "      <td id=\"T_7edcb_row12_col3\" class=\"data row12 col3\" >0.4338</td>\n",
              "      <td id=\"T_7edcb_row12_col4\" class=\"data row12 col4\" >0.3842</td>\n",
              "      <td id=\"T_7edcb_row12_col5\" class=\"data row12 col5\" >0.4066</td>\n",
              "      <td id=\"T_7edcb_row12_col6\" class=\"data row12 col6\" >0.2929</td>\n",
              "      <td id=\"T_7edcb_row12_col7\" class=\"data row12 col7\" >0.2941</td>\n",
              "      <td id=\"T_7edcb_row12_col8\" class=\"data row12 col8\" >0.0280</td>\n",
              "    </tr>\n",
              "    <tr>\n",
              "      <th id=\"T_7edcb_level0_row13\" class=\"row_heading level0 row13\" >dummy</th>\n",
              "      <td id=\"T_7edcb_row13_col0\" class=\"data row13 col0\" >Dummy Classifier</td>\n",
              "      <td id=\"T_7edcb_row13_col1\" class=\"data row13 col1\" >0.8495</td>\n",
              "      <td id=\"T_7edcb_row13_col2\" class=\"data row13 col2\" >0.0000</td>\n",
              "      <td id=\"T_7edcb_row13_col3\" class=\"data row13 col3\" >0.0000</td>\n",
              "      <td id=\"T_7edcb_row13_col4\" class=\"data row13 col4\" >0.0000</td>\n",
              "      <td id=\"T_7edcb_row13_col5\" class=\"data row13 col5\" >0.0000</td>\n",
              "      <td id=\"T_7edcb_row13_col6\" class=\"data row13 col6\" >0.0000</td>\n",
              "      <td id=\"T_7edcb_row13_col7\" class=\"data row13 col7\" >0.0000</td>\n",
              "      <td id=\"T_7edcb_row13_col8\" class=\"data row13 col8\" >0.0240</td>\n",
              "    </tr>\n",
              "  </tbody>\n",
              "</table>\n"
            ],
            "text/plain": [
              "<pandas.io.formats.style.Styler at 0x286e9c2fdf0>"
            ]
          },
          "metadata": {},
          "output_type": "display_data"
        },
        {
          "data": {
            "text/html": [],
            "text/plain": [
              "<IPython.core.display.HTML object>"
            ]
          },
          "metadata": {},
          "output_type": "display_data"
        }
      ],
      "source": [
        "best_model = compare_models(sort= 'auc')"
      ]
    },
    {
      "cell_type": "code",
      "execution_count": 43,
      "metadata": {
        "colab": {
          "base_uri": "https://localhost:8080/"
        },
        "id": "qdbpCDme086S",
        "outputId": "0b25c7cc-6888-4d1a-d8fd-eeff6c74cf8b"
      },
      "outputs": [
        {
          "name": "stdout",
          "output_type": "stream",
          "text": [
            "LogisticRegression(C=1.0, class_weight=None, dual=False, fit_intercept=True,\n",
            "                   intercept_scaling=1, l1_ratio=None, max_iter=1000,\n",
            "                   multi_class='auto', n_jobs=None, penalty='l2',\n",
            "                   random_state=123, solver='lbfgs', tol=0.0001, verbose=0,\n",
            "                   warm_start=False)\n"
          ]
        }
      ],
      "source": [
        "print(best_model)"
      ]
    },
    {
      "cell_type": "code",
      "execution_count": 44,
      "metadata": {},
      "outputs": [
        {
          "data": {
            "text/html": [],
            "text/plain": [
              "<IPython.core.display.HTML object>"
            ]
          },
          "metadata": {},
          "output_type": "display_data"
        },
        {
          "data": {
            "text/html": [
              "<style type=\"text/css\">\n",
              "#T_60fcd_row10_col0, #T_60fcd_row10_col1, #T_60fcd_row10_col2, #T_60fcd_row10_col3, #T_60fcd_row10_col4, #T_60fcd_row10_col5, #T_60fcd_row10_col6 {\n",
              "  background: yellow;\n",
              "}\n",
              "</style>\n",
              "<table id=\"T_60fcd\">\n",
              "  <thead>\n",
              "    <tr>\n",
              "      <th class=\"blank level0\" >&nbsp;</th>\n",
              "      <th id=\"T_60fcd_level0_col0\" class=\"col_heading level0 col0\" >Accuracy</th>\n",
              "      <th id=\"T_60fcd_level0_col1\" class=\"col_heading level0 col1\" >AUC</th>\n",
              "      <th id=\"T_60fcd_level0_col2\" class=\"col_heading level0 col2\" >Recall</th>\n",
              "      <th id=\"T_60fcd_level0_col3\" class=\"col_heading level0 col3\" >Prec.</th>\n",
              "      <th id=\"T_60fcd_level0_col4\" class=\"col_heading level0 col4\" >F1</th>\n",
              "      <th id=\"T_60fcd_level0_col5\" class=\"col_heading level0 col5\" >Kappa</th>\n",
              "      <th id=\"T_60fcd_level0_col6\" class=\"col_heading level0 col6\" >MCC</th>\n",
              "    </tr>\n",
              "    <tr>\n",
              "      <th class=\"index_name level0\" >Fold</th>\n",
              "      <th class=\"blank col0\" >&nbsp;</th>\n",
              "      <th class=\"blank col1\" >&nbsp;</th>\n",
              "      <th class=\"blank col2\" >&nbsp;</th>\n",
              "      <th class=\"blank col3\" >&nbsp;</th>\n",
              "      <th class=\"blank col4\" >&nbsp;</th>\n",
              "      <th class=\"blank col5\" >&nbsp;</th>\n",
              "      <th class=\"blank col6\" >&nbsp;</th>\n",
              "    </tr>\n",
              "  </thead>\n",
              "  <tbody>\n",
              "    <tr>\n",
              "      <th id=\"T_60fcd_level0_row0\" class=\"row_heading level0 row0\" >0</th>\n",
              "      <td id=\"T_60fcd_row0_col0\" class=\"data row0 col0\" >0.8815</td>\n",
              "      <td id=\"T_60fcd_row0_col1\" class=\"data row0 col1\" >0.8704</td>\n",
              "      <td id=\"T_60fcd_row0_col2\" class=\"data row0 col2\" >0.3500</td>\n",
              "      <td id=\"T_60fcd_row0_col3\" class=\"data row0 col3\" >0.7000</td>\n",
              "      <td id=\"T_60fcd_row0_col4\" class=\"data row0 col4\" >0.4667</td>\n",
              "      <td id=\"T_60fcd_row0_col5\" class=\"data row0 col5\" >0.4082</td>\n",
              "      <td id=\"T_60fcd_row0_col6\" class=\"data row0 col6\" >0.4394</td>\n",
              "    </tr>\n",
              "    <tr>\n",
              "      <th id=\"T_60fcd_level0_row1\" class=\"row_heading level0 row1\" >1</th>\n",
              "      <td id=\"T_60fcd_row1_col0\" class=\"data row1 col0\" >0.9111</td>\n",
              "      <td id=\"T_60fcd_row1_col1\" class=\"data row1 col1\" >0.8852</td>\n",
              "      <td id=\"T_60fcd_row1_col2\" class=\"data row1 col2\" >0.6000</td>\n",
              "      <td id=\"T_60fcd_row1_col3\" class=\"data row1 col3\" >0.7500</td>\n",
              "      <td id=\"T_60fcd_row1_col4\" class=\"data row1 col4\" >0.6667</td>\n",
              "      <td id=\"T_60fcd_row1_col5\" class=\"data row1 col5\" >0.6161</td>\n",
              "      <td id=\"T_60fcd_row1_col6\" class=\"data row1 col6\" >0.6212</td>\n",
              "    </tr>\n",
              "    <tr>\n",
              "      <th id=\"T_60fcd_level0_row2\" class=\"row_heading level0 row2\" >2</th>\n",
              "      <td id=\"T_60fcd_row2_col0\" class=\"data row2 col0\" >0.8741</td>\n",
              "      <td id=\"T_60fcd_row2_col1\" class=\"data row2 col1\" >0.8857</td>\n",
              "      <td id=\"T_60fcd_row2_col2\" class=\"data row2 col2\" >0.3500</td>\n",
              "      <td id=\"T_60fcd_row2_col3\" class=\"data row2 col3\" >0.6364</td>\n",
              "      <td id=\"T_60fcd_row2_col4\" class=\"data row2 col4\" >0.4516</td>\n",
              "      <td id=\"T_60fcd_row2_col5\" class=\"data row2 col5\" >0.3872</td>\n",
              "      <td id=\"T_60fcd_row2_col6\" class=\"data row2 col6\" >0.4093</td>\n",
              "    </tr>\n",
              "    <tr>\n",
              "      <th id=\"T_60fcd_level0_row3\" class=\"row_heading level0 row3\" >3</th>\n",
              "      <td id=\"T_60fcd_row3_col0\" class=\"data row3 col0\" >0.8889</td>\n",
              "      <td id=\"T_60fcd_row3_col1\" class=\"data row3 col1\" >0.8870</td>\n",
              "      <td id=\"T_60fcd_row3_col2\" class=\"data row3 col2\" >0.4000</td>\n",
              "      <td id=\"T_60fcd_row3_col3\" class=\"data row3 col3\" >0.7273</td>\n",
              "      <td id=\"T_60fcd_row3_col4\" class=\"data row3 col4\" >0.5161</td>\n",
              "      <td id=\"T_60fcd_row3_col5\" class=\"data row3 col5\" >0.4593</td>\n",
              "      <td id=\"T_60fcd_row3_col6\" class=\"data row3 col6\" >0.4855</td>\n",
              "    </tr>\n",
              "    <tr>\n",
              "      <th id=\"T_60fcd_level0_row4\" class=\"row_heading level0 row4\" >4</th>\n",
              "      <td id=\"T_60fcd_row4_col0\" class=\"data row4 col0\" >0.8519</td>\n",
              "      <td id=\"T_60fcd_row4_col1\" class=\"data row4 col1\" >0.9013</td>\n",
              "      <td id=\"T_60fcd_row4_col2\" class=\"data row4 col2\" >0.5500</td>\n",
              "      <td id=\"T_60fcd_row4_col3\" class=\"data row4 col3\" >0.5000</td>\n",
              "      <td id=\"T_60fcd_row4_col4\" class=\"data row4 col4\" >0.5238</td>\n",
              "      <td id=\"T_60fcd_row4_col5\" class=\"data row4 col5\" >0.4363</td>\n",
              "      <td id=\"T_60fcd_row4_col6\" class=\"data row4 col6\" >0.4370</td>\n",
              "    </tr>\n",
              "    <tr>\n",
              "      <th id=\"T_60fcd_level0_row5\" class=\"row_heading level0 row5\" >5</th>\n",
              "      <td id=\"T_60fcd_row5_col0\" class=\"data row5 col0\" >0.8370</td>\n",
              "      <td id=\"T_60fcd_row5_col1\" class=\"data row5 col1\" >0.8322</td>\n",
              "      <td id=\"T_60fcd_row5_col2\" class=\"data row5 col2\" >0.4000</td>\n",
              "      <td id=\"T_60fcd_row5_col3\" class=\"data row5 col3\" >0.4444</td>\n",
              "      <td id=\"T_60fcd_row5_col4\" class=\"data row5 col4\" >0.4211</td>\n",
              "      <td id=\"T_60fcd_row5_col5\" class=\"data row5 col5\" >0.3265</td>\n",
              "      <td id=\"T_60fcd_row5_col6\" class=\"data row5 col6\" >0.3271</td>\n",
              "    </tr>\n",
              "    <tr>\n",
              "      <th id=\"T_60fcd_level0_row6\" class=\"row_heading level0 row6\" >6</th>\n",
              "      <td id=\"T_60fcd_row6_col0\" class=\"data row6 col0\" >0.8667</td>\n",
              "      <td id=\"T_60fcd_row6_col1\" class=\"data row6 col1\" >0.8895</td>\n",
              "      <td id=\"T_60fcd_row6_col2\" class=\"data row6 col2\" >0.3810</td>\n",
              "      <td id=\"T_60fcd_row6_col3\" class=\"data row6 col3\" >0.6154</td>\n",
              "      <td id=\"T_60fcd_row6_col4\" class=\"data row6 col4\" >0.4706</td>\n",
              "      <td id=\"T_60fcd_row6_col5\" class=\"data row6 col5\" >0.3991</td>\n",
              "      <td id=\"T_60fcd_row6_col6\" class=\"data row6 col6\" >0.4142</td>\n",
              "    </tr>\n",
              "    <tr>\n",
              "      <th id=\"T_60fcd_level0_row7\" class=\"row_heading level0 row7\" >7</th>\n",
              "      <td id=\"T_60fcd_row7_col0\" class=\"data row7 col0\" >0.8593</td>\n",
              "      <td id=\"T_60fcd_row7_col1\" class=\"data row7 col1\" >0.8630</td>\n",
              "      <td id=\"T_60fcd_row7_col2\" class=\"data row7 col2\" >0.5238</td>\n",
              "      <td id=\"T_60fcd_row7_col3\" class=\"data row7 col3\" >0.5500</td>\n",
              "      <td id=\"T_60fcd_row7_col4\" class=\"data row7 col4\" >0.5366</td>\n",
              "      <td id=\"T_60fcd_row7_col5\" class=\"data row7 col5\" >0.4537</td>\n",
              "      <td id=\"T_60fcd_row7_col6\" class=\"data row7 col6\" >0.4539</td>\n",
              "    </tr>\n",
              "    <tr>\n",
              "      <th id=\"T_60fcd_level0_row8\" class=\"row_heading level0 row8\" >8</th>\n",
              "      <td id=\"T_60fcd_row8_col0\" class=\"data row8 col0\" >0.8741</td>\n",
              "      <td id=\"T_60fcd_row8_col1\" class=\"data row8 col1\" >0.8945</td>\n",
              "      <td id=\"T_60fcd_row8_col2\" class=\"data row8 col2\" >0.2857</td>\n",
              "      <td id=\"T_60fcd_row8_col3\" class=\"data row8 col3\" >0.7500</td>\n",
              "      <td id=\"T_60fcd_row8_col4\" class=\"data row8 col4\" >0.4138</td>\n",
              "      <td id=\"T_60fcd_row8_col5\" class=\"data row8 col5\" >0.3588</td>\n",
              "      <td id=\"T_60fcd_row8_col6\" class=\"data row8 col6\" >0.4116</td>\n",
              "    </tr>\n",
              "    <tr>\n",
              "      <th id=\"T_60fcd_level0_row9\" class=\"row_heading level0 row9\" >9</th>\n",
              "      <td id=\"T_60fcd_row9_col0\" class=\"data row9 col0\" >0.8955</td>\n",
              "      <td id=\"T_60fcd_row9_col1\" class=\"data row9 col1\" >0.9246</td>\n",
              "      <td id=\"T_60fcd_row9_col2\" class=\"data row9 col2\" >0.5000</td>\n",
              "      <td id=\"T_60fcd_row9_col3\" class=\"data row9 col3\" >0.7143</td>\n",
              "      <td id=\"T_60fcd_row9_col4\" class=\"data row9 col4\" >0.5882</td>\n",
              "      <td id=\"T_60fcd_row9_col5\" class=\"data row9 col5\" >0.5305</td>\n",
              "      <td id=\"T_60fcd_row9_col6\" class=\"data row9 col6\" >0.5416</td>\n",
              "    </tr>\n",
              "    <tr>\n",
              "      <th id=\"T_60fcd_level0_row10\" class=\"row_heading level0 row10\" >Mean</th>\n",
              "      <td id=\"T_60fcd_row10_col0\" class=\"data row10 col0\" >0.8740</td>\n",
              "      <td id=\"T_60fcd_row10_col1\" class=\"data row10 col1\" >0.8833</td>\n",
              "      <td id=\"T_60fcd_row10_col2\" class=\"data row10 col2\" >0.4340</td>\n",
              "      <td id=\"T_60fcd_row10_col3\" class=\"data row10 col3\" >0.6388</td>\n",
              "      <td id=\"T_60fcd_row10_col4\" class=\"data row10 col4\" >0.5055</td>\n",
              "      <td id=\"T_60fcd_row10_col5\" class=\"data row10 col5\" >0.4376</td>\n",
              "      <td id=\"T_60fcd_row10_col6\" class=\"data row10 col6\" >0.4541</td>\n",
              "    </tr>\n",
              "    <tr>\n",
              "      <th id=\"T_60fcd_level0_row11\" class=\"row_heading level0 row11\" >Std</th>\n",
              "      <td id=\"T_60fcd_row11_col0\" class=\"data row11 col0\" >0.0206</td>\n",
              "      <td id=\"T_60fcd_row11_col1\" class=\"data row11 col1\" >0.0233</td>\n",
              "      <td id=\"T_60fcd_row11_col2\" class=\"data row11 col2\" >0.0973</td>\n",
              "      <td id=\"T_60fcd_row11_col3\" class=\"data row11 col3\" >0.1037</td>\n",
              "      <td id=\"T_60fcd_row11_col4\" class=\"data row11 col4\" >0.0744</td>\n",
              "      <td id=\"T_60fcd_row11_col5\" class=\"data row11 col5\" >0.0804</td>\n",
              "      <td id=\"T_60fcd_row11_col6\" class=\"data row11 col6\" >0.0766</td>\n",
              "    </tr>\n",
              "  </tbody>\n",
              "</table>\n"
            ],
            "text/plain": [
              "<pandas.io.formats.style.Styler at 0x286e9d12fb0>"
            ]
          },
          "metadata": {},
          "output_type": "display_data"
        },
        {
          "data": {
            "text/html": [],
            "text/plain": [
              "<IPython.core.display.HTML object>"
            ]
          },
          "metadata": {},
          "output_type": "display_data"
        }
      ],
      "source": [
        "lgbm = create_model('lightgbm')"
      ]
    },
    {
      "cell_type": "markdown",
      "metadata": {
        "id": "ihsgsgnT10ym"
      },
      "source": [
        "## Tune best model"
      ]
    },
    {
      "cell_type": "code",
      "execution_count": 45,
      "metadata": {
        "colab": {
          "base_uri": "https://localhost:8080/",
          "height": 475,
          "referenced_widgets": [
            "912fae0f922043f6b578d2aca806e234",
            "1ddcfb1c230648f393232458cfdd9b3e",
            "7d81e06916e14812994e2485db925e99",
            "29b60e9abf054dc583ef38c9383b8a1b",
            "7a9000c35f774a1eaf86dfad26154286",
            "380f9b5295fa43119d2131803442e101",
            "2dad29f51f22478aa7fa9bae0e6b628f",
            "7ad2304fb0cd4bb094d4fef5209d75bf",
            "2fca4ef64bc24c27a8d7a092df800b1e",
            "f6ebff7f61934de2b98ab41440f55ed0",
            "787a6faa9a214ee29dae10ef3f3f9a1a"
          ]
        },
        "id": "6zT5ZXgd1e2z",
        "outputId": "5e7fd023-2324-49bc-d5d7-8f3b135964d0"
      },
      "outputs": [
        {
          "data": {
            "text/html": [],
            "text/plain": [
              "<IPython.core.display.HTML object>"
            ]
          },
          "metadata": {},
          "output_type": "display_data"
        },
        {
          "data": {
            "text/html": [
              "<style type=\"text/css\">\n",
              "#T_12e7e_row10_col0, #T_12e7e_row10_col1, #T_12e7e_row10_col2, #T_12e7e_row10_col3, #T_12e7e_row10_col4, #T_12e7e_row10_col5, #T_12e7e_row10_col6 {\n",
              "  background: yellow;\n",
              "}\n",
              "</style>\n",
              "<table id=\"T_12e7e\">\n",
              "  <thead>\n",
              "    <tr>\n",
              "      <th class=\"blank level0\" >&nbsp;</th>\n",
              "      <th id=\"T_12e7e_level0_col0\" class=\"col_heading level0 col0\" >Accuracy</th>\n",
              "      <th id=\"T_12e7e_level0_col1\" class=\"col_heading level0 col1\" >AUC</th>\n",
              "      <th id=\"T_12e7e_level0_col2\" class=\"col_heading level0 col2\" >Recall</th>\n",
              "      <th id=\"T_12e7e_level0_col3\" class=\"col_heading level0 col3\" >Prec.</th>\n",
              "      <th id=\"T_12e7e_level0_col4\" class=\"col_heading level0 col4\" >F1</th>\n",
              "      <th id=\"T_12e7e_level0_col5\" class=\"col_heading level0 col5\" >Kappa</th>\n",
              "      <th id=\"T_12e7e_level0_col6\" class=\"col_heading level0 col6\" >MCC</th>\n",
              "    </tr>\n",
              "    <tr>\n",
              "      <th class=\"index_name level0\" >Fold</th>\n",
              "      <th class=\"blank col0\" >&nbsp;</th>\n",
              "      <th class=\"blank col1\" >&nbsp;</th>\n",
              "      <th class=\"blank col2\" >&nbsp;</th>\n",
              "      <th class=\"blank col3\" >&nbsp;</th>\n",
              "      <th class=\"blank col4\" >&nbsp;</th>\n",
              "      <th class=\"blank col5\" >&nbsp;</th>\n",
              "      <th class=\"blank col6\" >&nbsp;</th>\n",
              "    </tr>\n",
              "  </thead>\n",
              "  <tbody>\n",
              "    <tr>\n",
              "      <th id=\"T_12e7e_level0_row0\" class=\"row_heading level0 row0\" >0</th>\n",
              "      <td id=\"T_12e7e_row0_col0\" class=\"data row0 col0\" >0.9111</td>\n",
              "      <td id=\"T_12e7e_row0_col1\" class=\"data row0 col1\" >0.8883</td>\n",
              "      <td id=\"T_12e7e_row0_col2\" class=\"data row0 col2\" >0.5500</td>\n",
              "      <td id=\"T_12e7e_row0_col3\" class=\"data row0 col3\" >0.7857</td>\n",
              "      <td id=\"T_12e7e_row0_col4\" class=\"data row0 col4\" >0.6471</td>\n",
              "      <td id=\"T_12e7e_row0_col5\" class=\"data row0 col5\" >0.5980</td>\n",
              "      <td id=\"T_12e7e_row0_col6\" class=\"data row0 col6\" >0.6105</td>\n",
              "    </tr>\n",
              "    <tr>\n",
              "      <th id=\"T_12e7e_level0_row1\" class=\"row_heading level0 row1\" >1</th>\n",
              "      <td id=\"T_12e7e_row1_col0\" class=\"data row1 col0\" >0.9111</td>\n",
              "      <td id=\"T_12e7e_row1_col1\" class=\"data row1 col1\" >0.9074</td>\n",
              "      <td id=\"T_12e7e_row1_col2\" class=\"data row1 col2\" >0.6000</td>\n",
              "      <td id=\"T_12e7e_row1_col3\" class=\"data row1 col3\" >0.7500</td>\n",
              "      <td id=\"T_12e7e_row1_col4\" class=\"data row1 col4\" >0.6667</td>\n",
              "      <td id=\"T_12e7e_row1_col5\" class=\"data row1 col5\" >0.6161</td>\n",
              "      <td id=\"T_12e7e_row1_col6\" class=\"data row1 col6\" >0.6212</td>\n",
              "    </tr>\n",
              "    <tr>\n",
              "      <th id=\"T_12e7e_level0_row2\" class=\"row_heading level0 row2\" >2</th>\n",
              "      <td id=\"T_12e7e_row2_col0\" class=\"data row2 col0\" >0.8741</td>\n",
              "      <td id=\"T_12e7e_row2_col1\" class=\"data row2 col1\" >0.8991</td>\n",
              "      <td id=\"T_12e7e_row2_col2\" class=\"data row2 col2\" >0.3000</td>\n",
              "      <td id=\"T_12e7e_row2_col3\" class=\"data row2 col3\" >0.6667</td>\n",
              "      <td id=\"T_12e7e_row2_col4\" class=\"data row2 col4\" >0.4138</td>\n",
              "      <td id=\"T_12e7e_row2_col5\" class=\"data row2 col5\" >0.3544</td>\n",
              "      <td id=\"T_12e7e_row2_col6\" class=\"data row2 col6\" >0.3901</td>\n",
              "    </tr>\n",
              "    <tr>\n",
              "      <th id=\"T_12e7e_level0_row3\" class=\"row_heading level0 row3\" >3</th>\n",
              "      <td id=\"T_12e7e_row3_col0\" class=\"data row3 col0\" >0.9037</td>\n",
              "      <td id=\"T_12e7e_row3_col1\" class=\"data row3 col1\" >0.9139</td>\n",
              "      <td id=\"T_12e7e_row3_col2\" class=\"data row3 col2\" >0.5500</td>\n",
              "      <td id=\"T_12e7e_row3_col3\" class=\"data row3 col3\" >0.7333</td>\n",
              "      <td id=\"T_12e7e_row3_col4\" class=\"data row3 col4\" >0.6286</td>\n",
              "      <td id=\"T_12e7e_row3_col5\" class=\"data row3 col5\" >0.5745</td>\n",
              "      <td id=\"T_12e7e_row3_col6\" class=\"data row3 col6\" >0.5824</td>\n",
              "    </tr>\n",
              "    <tr>\n",
              "      <th id=\"T_12e7e_level0_row4\" class=\"row_heading level0 row4\" >4</th>\n",
              "      <td id=\"T_12e7e_row4_col0\" class=\"data row4 col0\" >0.9037</td>\n",
              "      <td id=\"T_12e7e_row4_col1\" class=\"data row4 col1\" >0.9287</td>\n",
              "      <td id=\"T_12e7e_row4_col2\" class=\"data row4 col2\" >0.7500</td>\n",
              "      <td id=\"T_12e7e_row4_col3\" class=\"data row4 col3\" >0.6522</td>\n",
              "      <td id=\"T_12e7e_row4_col4\" class=\"data row4 col4\" >0.6977</td>\n",
              "      <td id=\"T_12e7e_row4_col5\" class=\"data row4 col5\" >0.6407</td>\n",
              "      <td id=\"T_12e7e_row4_col6\" class=\"data row4 col6\" >0.6430</td>\n",
              "    </tr>\n",
              "    <tr>\n",
              "      <th id=\"T_12e7e_level0_row5\" class=\"row_heading level0 row5\" >5</th>\n",
              "      <td id=\"T_12e7e_row5_col0\" class=\"data row5 col0\" >0.8519</td>\n",
              "      <td id=\"T_12e7e_row5_col1\" class=\"data row5 col1\" >0.8496</td>\n",
              "      <td id=\"T_12e7e_row5_col2\" class=\"data row5 col2\" >0.5500</td>\n",
              "      <td id=\"T_12e7e_row5_col3\" class=\"data row5 col3\" >0.5000</td>\n",
              "      <td id=\"T_12e7e_row5_col4\" class=\"data row5 col4\" >0.5238</td>\n",
              "      <td id=\"T_12e7e_row5_col5\" class=\"data row5 col5\" >0.4363</td>\n",
              "      <td id=\"T_12e7e_row5_col6\" class=\"data row5 col6\" >0.4370</td>\n",
              "    </tr>\n",
              "    <tr>\n",
              "      <th id=\"T_12e7e_level0_row6\" class=\"row_heading level0 row6\" >6</th>\n",
              "      <td id=\"T_12e7e_row6_col0\" class=\"data row6 col0\" >0.8667</td>\n",
              "      <td id=\"T_12e7e_row6_col1\" class=\"data row6 col1\" >0.8820</td>\n",
              "      <td id=\"T_12e7e_row6_col2\" class=\"data row6 col2\" >0.3810</td>\n",
              "      <td id=\"T_12e7e_row6_col3\" class=\"data row6 col3\" >0.6154</td>\n",
              "      <td id=\"T_12e7e_row6_col4\" class=\"data row6 col4\" >0.4706</td>\n",
              "      <td id=\"T_12e7e_row6_col5\" class=\"data row6 col5\" >0.3991</td>\n",
              "      <td id=\"T_12e7e_row6_col6\" class=\"data row6 col6\" >0.4142</td>\n",
              "    </tr>\n",
              "    <tr>\n",
              "      <th id=\"T_12e7e_level0_row7\" class=\"row_heading level0 row7\" >7</th>\n",
              "      <td id=\"T_12e7e_row7_col0\" class=\"data row7 col0\" >0.8667</td>\n",
              "      <td id=\"T_12e7e_row7_col1\" class=\"data row7 col1\" >0.8876</td>\n",
              "      <td id=\"T_12e7e_row7_col2\" class=\"data row7 col2\" >0.5714</td>\n",
              "      <td id=\"T_12e7e_row7_col3\" class=\"data row7 col3\" >0.5714</td>\n",
              "      <td id=\"T_12e7e_row7_col4\" class=\"data row7 col4\" >0.5714</td>\n",
              "      <td id=\"T_12e7e_row7_col5\" class=\"data row7 col5\" >0.4925</td>\n",
              "      <td id=\"T_12e7e_row7_col6\" class=\"data row7 col6\" >0.4925</td>\n",
              "    </tr>\n",
              "    <tr>\n",
              "      <th id=\"T_12e7e_level0_row8\" class=\"row_heading level0 row8\" >8</th>\n",
              "      <td id=\"T_12e7e_row8_col0\" class=\"data row8 col0\" >0.8741</td>\n",
              "      <td id=\"T_12e7e_row8_col1\" class=\"data row8 col1\" >0.8866</td>\n",
              "      <td id=\"T_12e7e_row8_col2\" class=\"data row8 col2\" >0.3810</td>\n",
              "      <td id=\"T_12e7e_row8_col3\" class=\"data row8 col3\" >0.6667</td>\n",
              "      <td id=\"T_12e7e_row8_col4\" class=\"data row8 col4\" >0.4848</td>\n",
              "      <td id=\"T_12e7e_row8_col5\" class=\"data row8 col5\" >0.4191</td>\n",
              "      <td id=\"T_12e7e_row8_col6\" class=\"data row8 col6\" >0.4405</td>\n",
              "    </tr>\n",
              "    <tr>\n",
              "      <th id=\"T_12e7e_level0_row9\" class=\"row_heading level0 row9\" >9</th>\n",
              "      <td id=\"T_12e7e_row9_col0\" class=\"data row9 col0\" >0.8657</td>\n",
              "      <td id=\"T_12e7e_row9_col1\" class=\"data row9 col1\" >0.8921</td>\n",
              "      <td id=\"T_12e7e_row9_col2\" class=\"data row9 col2\" >0.4500</td>\n",
              "      <td id=\"T_12e7e_row9_col3\" class=\"data row9 col3\" >0.5625</td>\n",
              "      <td id=\"T_12e7e_row9_col4\" class=\"data row9 col4\" >0.5000</td>\n",
              "      <td id=\"T_12e7e_row9_col5\" class=\"data row9 col5\" >0.4235</td>\n",
              "      <td id=\"T_12e7e_row9_col6\" class=\"data row9 col6\" >0.4270</td>\n",
              "    </tr>\n",
              "    <tr>\n",
              "      <th id=\"T_12e7e_level0_row10\" class=\"row_heading level0 row10\" >Mean</th>\n",
              "      <td id=\"T_12e7e_row10_col0\" class=\"data row10 col0\" >0.8829</td>\n",
              "      <td id=\"T_12e7e_row10_col1\" class=\"data row10 col1\" >0.8935</td>\n",
              "      <td id=\"T_12e7e_row10_col2\" class=\"data row10 col2\" >0.5083</td>\n",
              "      <td id=\"T_12e7e_row10_col3\" class=\"data row10 col3\" >0.6504</td>\n",
              "      <td id=\"T_12e7e_row10_col4\" class=\"data row10 col4\" >0.5604</td>\n",
              "      <td id=\"T_12e7e_row10_col5\" class=\"data row10 col5\" >0.4954</td>\n",
              "      <td id=\"T_12e7e_row10_col6\" class=\"data row10 col6\" >0.5058</td>\n",
              "    </tr>\n",
              "    <tr>\n",
              "      <th id=\"T_12e7e_level0_row11\" class=\"row_heading level0 row11\" >Std</th>\n",
              "      <td id=\"T_12e7e_row11_col0\" class=\"data row11 col0\" >0.0210</td>\n",
              "      <td id=\"T_12e7e_row11_col1\" class=\"data row11 col1\" >0.0201</td>\n",
              "      <td id=\"T_12e7e_row11_col2\" class=\"data row11 col2\" >0.1246</td>\n",
              "      <td id=\"T_12e7e_row11_col3\" class=\"data row11 col3\" >0.0857</td>\n",
              "      <td id=\"T_12e7e_row11_col4\" class=\"data row11 col4\" >0.0909</td>\n",
              "      <td id=\"T_12e7e_row11_col5\" class=\"data row11 col5\" >0.0980</td>\n",
              "      <td id=\"T_12e7e_row11_col6\" class=\"data row11 col6\" >0.0928</td>\n",
              "    </tr>\n",
              "  </tbody>\n",
              "</table>\n"
            ],
            "text/plain": [
              "<pandas.io.formats.style.Styler at 0x286e989fe20>"
            ]
          },
          "metadata": {},
          "output_type": "display_data"
        },
        {
          "data": {
            "text/html": [],
            "text/plain": [
              "<IPython.core.display.HTML object>"
            ]
          },
          "metadata": {},
          "output_type": "display_data"
        },
        {
          "name": "stdout",
          "output_type": "stream",
          "text": [
            "Fitting 10 folds for each of 10 candidates, totalling 100 fits\n"
          ]
        }
      ],
      "source": [
        "lgbm = tune_model(lgbm)"
      ]
    },
    {
      "cell_type": "code",
      "execution_count": 46,
      "metadata": {
        "colab": {
          "base_uri": "https://localhost:8080/"
        },
        "id": "GCNmlzcn17im",
        "outputId": "84db9db9-e31a-408f-e3b0-05e96b329fa9"
      },
      "outputs": [
        {
          "name": "stdout",
          "output_type": "stream",
          "text": [
            "LGBMClassifier(bagging_fraction=0.6, bagging_freq=2, boosting_type='gbdt',\n",
            "               class_weight=None, colsample_bytree=1.0, feature_fraction=0.4,\n",
            "               importance_type='split', learning_rate=0.1, max_depth=-1,\n",
            "               min_child_samples=41, min_child_weight=0.001, min_split_gain=0.9,\n",
            "               n_estimators=260, n_jobs=-1, num_leaves=70, objective=None,\n",
            "               random_state=123, reg_alpha=2, reg_lambda=3, subsample=1.0,\n",
            "               subsample_for_bin=200000, subsample_freq=0)\n"
          ]
        }
      ],
      "source": [
        "print(lgbm)"
      ]
    },
    {
      "cell_type": "markdown",
      "metadata": {
        "id": "0kRwA85h2I8o"
      },
      "source": [
        "## Model Evaluation"
      ]
    },
    {
      "cell_type": "code",
      "execution_count": 47,
      "metadata": {
        "colab": {
          "base_uri": "https://localhost:8080/",
          "height": 247
        },
        "id": "9i7oekBk2KIq",
        "outputId": "d2b14fa0-8e88-46f6-950e-aa1c226d5c9e"
      },
      "outputs": [
        {
          "data": {
            "text/html": [
              "<style type=\"text/css\">\n",
              "</style>\n",
              "<table id=\"T_97255\">\n",
              "  <thead>\n",
              "    <tr>\n",
              "      <th class=\"blank level0\" >&nbsp;</th>\n",
              "      <th id=\"T_97255_level0_col0\" class=\"col_heading level0 col0\" >Model</th>\n",
              "      <th id=\"T_97255_level0_col1\" class=\"col_heading level0 col1\" >Accuracy</th>\n",
              "      <th id=\"T_97255_level0_col2\" class=\"col_heading level0 col2\" >AUC</th>\n",
              "      <th id=\"T_97255_level0_col3\" class=\"col_heading level0 col3\" >Recall</th>\n",
              "      <th id=\"T_97255_level0_col4\" class=\"col_heading level0 col4\" >Prec.</th>\n",
              "      <th id=\"T_97255_level0_col5\" class=\"col_heading level0 col5\" >F1</th>\n",
              "      <th id=\"T_97255_level0_col6\" class=\"col_heading level0 col6\" >Kappa</th>\n",
              "      <th id=\"T_97255_level0_col7\" class=\"col_heading level0 col7\" >MCC</th>\n",
              "    </tr>\n",
              "  </thead>\n",
              "  <tbody>\n",
              "    <tr>\n",
              "      <th id=\"T_97255_level0_row0\" class=\"row_heading level0 row0\" >0</th>\n",
              "      <td id=\"T_97255_row0_col0\" class=\"data row0 col0\" >Light Gradient Boosting Machine</td>\n",
              "      <td id=\"T_97255_row0_col1\" class=\"data row0 col1\" >0.8808</td>\n",
              "      <td id=\"T_97255_row0_col2\" class=\"data row0 col2\" >0.9173</td>\n",
              "      <td id=\"T_97255_row0_col3\" class=\"data row0 col3\" >0.4943</td>\n",
              "      <td id=\"T_97255_row0_col4\" class=\"data row0 col4\" >0.6324</td>\n",
              "      <td id=\"T_97255_row0_col5\" class=\"data row0 col5\" >0.5548</td>\n",
              "      <td id=\"T_97255_row0_col6\" class=\"data row0 col6\" >0.4872</td>\n",
              "      <td id=\"T_97255_row0_col7\" class=\"data row0 col7\" >0.4922</td>\n",
              "    </tr>\n",
              "  </tbody>\n",
              "</table>\n"
            ],
            "text/plain": [
              "<pandas.io.formats.style.Styler at 0x286e9e8bb20>"
            ]
          },
          "metadata": {},
          "output_type": "display_data"
        },
        {
          "name": "stdout",
          "output_type": "stream",
          "text": [
            "[LightGBM] [Warning] feature_fraction is set=0.4, colsample_bytree=1.0 will be ignored. Current value: feature_fraction=0.4\n",
            "[LightGBM] [Warning] bagging_fraction is set=0.6, subsample=1.0 will be ignored. Current value: bagging_fraction=0.6\n",
            "[LightGBM] [Warning] bagging_freq is set=2, subsample_freq=0 will be ignored. Current value: bagging_freq=2\n",
            "[LightGBM] [Warning] feature_fraction is set=0.4, colsample_bytree=1.0 will be ignored. Current value: feature_fraction=0.4\n",
            "[LightGBM] [Warning] bagging_fraction is set=0.6, subsample=1.0 will be ignored. Current value: bagging_fraction=0.6\n",
            "[LightGBM] [Warning] bagging_freq is set=2, subsample_freq=0 will be ignored. Current value: bagging_freq=2\n",
            "              precision    recall  f1-score   support\n",
            "\n",
            "         0.0       0.91      0.95      0.93       492\n",
            "         1.0       0.63      0.49      0.55        87\n",
            "\n",
            "    accuracy                           0.88       579\n",
            "   macro avg       0.77      0.72      0.74       579\n",
            "weighted avg       0.87      0.88      0.87       579\n",
            "\n"
          ]
        }
      ],
      "source": [
        "predictions = predict_model(lgbm)\n",
        "\n",
        "y_true = predictions['Response']\n",
        "y_pred = predictions['prediction_label']\n",
        "\n",
        "print(classification_report(y_true, y_pred))"
      ]
    },
    {
      "cell_type": "code",
      "execution_count": 48,
      "metadata": {
        "colab": {
          "base_uri": "https://localhost:8080/",
          "height": 551
        },
        "id": "AnkmBAxO2c6D",
        "outputId": "afd35e39-12ac-473d-b5ba-0b677474c6ac"
      },
      "outputs": [
        {
          "data": {
            "text/html": [],
            "text/plain": [
              "<IPython.core.display.HTML object>"
            ]
          },
          "metadata": {},
          "output_type": "display_data"
        },
        {
          "data": {
            "image/png": "[encoded data removed]",
            "text/plain": [
              "<Figure size 800x550 with 2 Axes>"
            ]
          },
          "metadata": {},
          "output_type": "display_data"
        }
      ],
      "source": [
        "plot_model(lgbm, plot= 'class_report')"
      ]
    },
    {
      "cell_type": "code",
      "execution_count": 49,
      "metadata": {
        "colab": {
          "base_uri": "https://localhost:8080/",
          "height": 524
        },
        "id": "-ydamRT_2wkw",
        "outputId": "49bab00e-9eee-4a5a-c245-283da2a64c8b"
      },
      "outputs": [
        {
          "data": {
            "text/html": [],
            "text/plain": [
              "<IPython.core.display.HTML object>"
            ]
          },
          "metadata": {},
          "output_type": "display_data"
        },
        {
          "data": {
            "image/png": "[encoded data removed]",
            "text/plain": [
              "<Figure size 800x550 with 1 Axes>"
            ]
          },
          "metadata": {},
          "output_type": "display_data"
        }
      ],
      "source": [
        "plot_model(lgbm, plot= 'threshold')"
      ]
    },
    {
      "cell_type": "code",
      "execution_count": 50,
      "metadata": {
        "colab": {
          "base_uri": "https://localhost:8080/",
          "height": 524
        },
        "id": "HHs8Md-23bID",
        "outputId": "0b9a82be-2aa2-4be7-8c16-6138efb16800"
      },
      "outputs": [
        {
          "data": {
            "text/html": [],
            "text/plain": [
              "<IPython.core.display.HTML object>"
            ]
          },
          "metadata": {},
          "output_type": "display_data"
        },
        {
          "data": {
            "image/png": "[encoded data removed]",
            "text/plain": [
              "<Figure size 800x550 with 1 Axes>"
            ]
          },
          "metadata": {},
          "output_type": "display_data"
        }
      ],
      "source": [
        "plot_model(lgbm, plot= 'auc')"
      ]
    },
    {
      "cell_type": "code",
      "execution_count": 51,
      "metadata": {
        "colab": {
          "base_uri": "https://localhost:8080/",
          "height": 551
        },
        "id": "u-tLB27x3eqJ",
        "outputId": "22a57918-7e17-4eec-fa59-dd2f7a754872"
      },
      "outputs": [
        {
          "data": {
            "text/html": [],
            "text/plain": [
              "<IPython.core.display.HTML object>"
            ]
          },
          "metadata": {},
          "output_type": "display_data"
        },
        {
          "data": {
            "image/png": "[encoded data removed]",
            "text/plain": [
              "<Figure size 800x550 with 1 Axes>"
            ]
          },
          "metadata": {},
          "output_type": "display_data"
        }
      ],
      "source": [
        "plot_model(lgbm, plot= 'confusion_matrix')"
      ]
    },
    {
      "cell_type": "code",
      "execution_count": 52,
      "metadata": {
        "colab": {
          "base_uri": "https://localhost:8080/",
          "height": 870
        },
        "id": "qBLk1Gp92lSa",
        "outputId": "3cfd94a1-7eee-4b66-b9e9-1de8e89b24cf"
      },
      "outputs": [
        {
          "data": {
            "text/html": [],
            "text/plain": [
              "<IPython.core.display.HTML object>"
            ]
          },
          "metadata": {},
          "output_type": "display_data"
        },
        {
          "data": {
            "image/png": "[encoded data removed]",
            "text/plain": [
              "<Figure size 800x1000 with 1 Axes>"
            ]
          },
          "metadata": {},
          "output_type": "display_data"
        }
      ],
      "source": [
        "plot_model(lgbm, plot= 'feature_all')"
      ]
    },
    {
      "cell_type": "markdown",
      "metadata": {
        "id": "NWDd77pr3t5h"
      },
      "source": [
        "## Save and Load model"
      ]
    },
    {
      "cell_type": "code",
      "execution_count": 53,
      "metadata": {
        "colab": {
          "base_uri": "https://localhost:8080/"
        },
        "id": "2wz3JalO3zJE",
        "outputId": "ecfa18cf-35c7-4c12-94a7-20ad734780be"
      },
      "outputs": [
        {
          "name": "stdout",
          "output_type": "stream",
          "text": [
            "Transformation Pipeline and Model Successfully Saved\n"
          ]
        },
        {
          "data": {
            "text/plain": [
              "(Pipeline(memory=Memory(location=None),\n",
              "          steps=[('numerical_imputer',\n",
              "                  TransformerWrapper(exclude=None,\n",
              "                                     include=['AcceptedCmp1', 'AcceptedCmp3',\n",
              "                                              'AcceptedCmp4', 'AcceptedCmp5',\n",
              "                                              'Age', 'Education', 'Income',\n",
              "                                              'Kidhome', 'MntFishProducts',\n",
              "                                              'MntFruits', 'MntGoldProds',\n",
              "                                              'MntMeatProducts',\n",
              "                                              'MntSweetProducts', 'MntWines',\n",
              "                                              'NumCatalogPurchases',\n",
              "                                              'NumDealsPurchases',\n",
              "                                              'NumStorePu...\n",
              "                                 boosting_type='gbdt', class_weight=None,\n",
              "                                 colsample_bytree=1.0, feature_fraction=0.4,\n",
              "                                 importance_type='split', learning_rate=0.1,\n",
              "                                 max_depth=-1, min_child_samples=41,\n",
              "                                 min_child_weight=0.001, min_split_gain=0.9,\n",
              "                                 n_estimators=260, n_jobs=-1, num_leaves=70,\n",
              "                                 objective=None, random_state=123, reg_alpha=2,\n",
              "                                 reg_lambda=3, subsample=1.0,\n",
              "                                 subsample_for_bin=200000, subsample_freq=0))],\n",
              "          verbose=False),\n",
              " 'deploy-streamlit/ifood_sales_prospecting_model_lgbm.pkl')"
            ]
          },
          "execution_count": 53,
          "metadata": {},
          "output_type": "execute_result"
        }
      ],
      "source": [
        "final_model = finalize_model(lgbm)\n",
        "save_model(final_model, 'deploy-streamlit/ifood_sales_prospecting_model_lgbm')"
      ]
    },
    {
      "cell_type": "code",
      "execution_count": 54,
      "metadata": {
        "colab": {
          "base_uri": "https://localhost:8080/"
        },
        "id": "w2ZAC1Kp4L6V",
        "outputId": "8336fc56-14db-4f77-e0cb-d361f96e8f6d"
      },
      "outputs": [
        {
          "name": "stdout",
          "output_type": "stream",
          "text": [
            "Transformation Pipeline and Model Successfully Loaded\n"
          ]
        }
      ],
      "source": [
        "saved_model = load_model('deploy-streamlit/ifood_sales_prospecting_model_lgbm')"
      ]
    },
    {
      "cell_type": "code",
      "execution_count": 55,
      "metadata": {
        "colab": {
          "base_uri": "https://localhost:8080/"
        },
        "id": "4zoS8ovd4O59",
        "outputId": "53d3c753-f604-4e19-a488-7f90327bdba3"
      },
      "outputs": [
        {
          "name": "stdout",
          "output_type": "stream",
          "text": [
            "Pipeline(memory=FastMemory(location=C:\\Users\\guilh\\AppData\\Local\\Temp\\joblib),\n",
            "         steps=[('numerical_imputer',\n",
            "                 TransformerWrapper(exclude=None,\n",
            "                                    include=['AcceptedCmp1', 'AcceptedCmp3',\n",
            "                                             'AcceptedCmp4', 'AcceptedCmp5',\n",
            "                                             'Age', 'Education', 'Income',\n",
            "                                             'Kidhome', 'MntFishProducts',\n",
            "                                             'MntFruits', 'MntGoldProds',\n",
            "                                             'MntMeatProducts',\n",
            "                                             'MntSweetProducts', 'MntWines',\n",
            "                                             'NumCatalogPu...\n",
            "                                boosting_type='gbdt', class_weight=None,\n",
            "                                colsample_bytree=1.0, feature_fraction=0.4,\n",
            "                                importance_type='split', learning_rate=0.1,\n",
            "                                max_depth=-1, min_child_samples=41,\n",
            "                                min_child_weight=0.001, min_split_gain=0.9,\n",
            "                                n_estimators=260, n_jobs=-1, num_leaves=70,\n",
            "                                objective=None, random_state=123, reg_alpha=2,\n",
            "                                reg_lambda=3, subsample=1.0,\n",
            "                                subsample_for_bin=200000, subsample_freq=0))],\n",
            "         verbose=False)\n"
          ]
        }
      ],
      "source": [
        "print(saved_model)"
      ]
    },
    {
      "cell_type": "code",
      "execution_count": 56,
      "metadata": {},
      "outputs": [],
      "source": [
        "df_valid.drop('Response', axis = 1).to_csv('deploy-streamlit/Xtest.csv', index = False)"
      ]
    }
  ],
  "metadata": {
    "colab": {
      "provenance": [],
      "toc_visible": true
    },
    "kernelspec": {
      "display_name": "base",
      "language": "python",
      "name": "python3"
    },
    "language_info": {
      "codemirror_mode": {
        "name": "ipython",
        "version": 3
      },
      "file_extension": ".py",
      "mimetype": "text/x-python",
      "name": "python",
      "nbconvert_exporter": "python",
      "pygments_lexer": "ipython3",
      "version": "3.10.6"
    },
    "vscode": {
      "interpreter": {
        "hash": "dbbbd85b2a4798c027da7b5a0fd5dd47a25f4b0dd387608339a19f5db8ee71ab"
      }
    },
    "widgets": {
      "application/vnd.jupyter.widget-state+json": {
        "0cddb18d28c545499e1a53d3d10d6d0e": {
          "model_module": "@jupyter-widgets/controls",
          "model_module_version": "1.5.0",
          "model_name": "FloatProgressModel",
          "state": {
            "_dom_classes": [],
            "_model_module": "@jupyter-widgets/controls",
            "_model_module_version": "1.5.0",
            "_model_name": "FloatProgressModel",
            "_view_count": null,
            "_view_module": "@jupyter-widgets/controls",
            "_view_module_version": "1.5.0",
            "_view_name": "ProgressView",
            "bar_style": "",
            "description": "",
            "description_tooltip": null,
            "layout": "IPY_MODEL_b5a17978f0944d9e8091cb470e7a8717",
            "max": 65,
            "min": 0,
            "orientation": "horizontal",
            "style": "IPY_MODEL_c5534299028349419abd5399c903139e",
            "value": 65
          }
        },
        "1ddcfb1c230648f393232458cfdd9b3e": {
          "model_module": "@jupyter-widgets/controls",
          "model_module_version": "1.5.0",
          "model_name": "HTMLModel",
          "state": {
            "_dom_classes": [],
            "_model_module": "@jupyter-widgets/controls",
            "_model_module_version": "1.5.0",
            "_model_name": "HTMLModel",
            "_view_count": null,
            "_view_module": "@jupyter-widgets/controls",
            "_view_module_version": "1.5.0",
            "_view_name": "HTMLView",
            "description": "",
            "description_tooltip": null,
            "layout": "IPY_MODEL_380f9b5295fa43119d2131803442e101",
            "placeholder": "​",
            "style": "IPY_MODEL_2dad29f51f22478aa7fa9bae0e6b628f",
            "value": "Processing: 100%"
          }
        },
        "29b60e9abf054dc583ef38c9383b8a1b": {
          "model_module": "@jupyter-widgets/controls",
          "model_module_version": "1.5.0",
          "model_name": "HTMLModel",
          "state": {
            "_dom_classes": [],
            "_model_module": "@jupyter-widgets/controls",
            "_model_module_version": "1.5.0",
            "_model_name": "HTMLModel",
            "_view_count": null,
            "_view_module": "@jupyter-widgets/controls",
            "_view_module_version": "1.5.0",
            "_view_name": "HTMLView",
            "description": "",
            "description_tooltip": null,
            "layout": "IPY_MODEL_f6ebff7f61934de2b98ab41440f55ed0",
            "placeholder": "​",
            "style": "IPY_MODEL_787a6faa9a214ee29dae10ef3f3f9a1a",
            "value": " 7/7 [00:24&lt;00:00,  2.78s/it]"
          }
        },
        "2dad29f51f22478aa7fa9bae0e6b628f": {
          "model_module": "@jupyter-widgets/controls",
          "model_module_version": "1.5.0",
          "model_name": "DescriptionStyleModel",
          "state": {
            "_model_module": "@jupyter-widgets/controls",
            "_model_module_version": "1.5.0",
            "_model_name": "DescriptionStyleModel",
            "_view_count": null,
            "_view_module": "@jupyter-widgets/base",
            "_view_module_version": "1.2.0",
            "_view_name": "StyleView",
            "description_width": ""
          }
        },
        "2fca4ef64bc24c27a8d7a092df800b1e": {
          "model_module": "@jupyter-widgets/controls",
          "model_module_version": "1.5.0",
          "model_name": "ProgressStyleModel",
          "state": {
            "_model_module": "@jupyter-widgets/controls",
            "_model_module_version": "1.5.0",
            "_model_name": "ProgressStyleModel",
            "_view_count": null,
            "_view_module": "@jupyter-widgets/base",
            "_view_module_version": "1.2.0",
            "_view_name": "StyleView",
            "bar_color": null,
            "description_width": ""
          }
        },
        "380f9b5295fa43119d2131803442e101": {
          "model_module": "@jupyter-widgets/base",
          "model_module_version": "1.2.0",
          "model_name": "LayoutModel",
          "state": {
            "_model_module": "@jupyter-widgets/base",
            "_model_module_version": "1.2.0",
            "_model_name": "LayoutModel",
            "_view_count": null,
            "_view_module": "@jupyter-widgets/base",
            "_view_module_version": "1.2.0",
            "_view_name": "LayoutView",
            "align_content": null,
            "align_items": null,
            "align_self": null,
            "border": null,
            "bottom": null,
            "display": null,
            "flex": null,
            "flex_flow": null,
            "grid_area": null,
            "grid_auto_columns": null,
            "grid_auto_flow": null,
            "grid_auto_rows": null,
            "grid_column": null,
            "grid_gap": null,
            "grid_row": null,
            "grid_template_areas": null,
            "grid_template_columns": null,
            "grid_template_rows": null,
            "height": null,
            "justify_content": null,
            "justify_items": null,
            "left": null,
            "margin": null,
            "max_height": null,
            "max_width": null,
            "min_height": null,
            "min_width": null,
            "object_fit": null,
            "object_position": null,
            "order": null,
            "overflow": null,
            "overflow_x": null,
            "overflow_y": null,
            "padding": null,
            "right": null,
            "top": null,
            "visibility": null,
            "width": null
          }
        },
        "41fd29090c0244e5af10a4ba6ab620f2": {
          "model_module": "@jupyter-widgets/controls",
          "model_module_version": "1.5.0",
          "model_name": "HTMLModel",
          "state": {
            "_dom_classes": [],
            "_model_module": "@jupyter-widgets/controls",
            "_model_module_version": "1.5.0",
            "_model_name": "HTMLModel",
            "_view_count": null,
            "_view_module": "@jupyter-widgets/controls",
            "_view_module_version": "1.5.0",
            "_view_name": "HTMLView",
            "description": "",
            "description_tooltip": null,
            "layout": "IPY_MODEL_f88eb252194f449f8d95d519a4ebd646",
            "placeholder": "​",
            "style": "IPY_MODEL_993d56d456574a6086c47d0e5e94d23c",
            "value": "Processing: 100%"
          }
        },
        "5e1651b1dec34501ab5963fdb9057c0d": {
          "model_module": "@jupyter-widgets/controls",
          "model_module_version": "1.5.0",
          "model_name": "HBoxModel",
          "state": {
            "_dom_classes": [],
            "_model_module": "@jupyter-widgets/controls",
            "_model_module_version": "1.5.0",
            "_model_name": "HBoxModel",
            "_view_count": null,
            "_view_module": "@jupyter-widgets/controls",
            "_view_module_version": "1.5.0",
            "_view_name": "HBoxView",
            "box_style": "",
            "children": [
              "IPY_MODEL_41fd29090c0244e5af10a4ba6ab620f2",
              "IPY_MODEL_0cddb18d28c545499e1a53d3d10d6d0e",
              "IPY_MODEL_99123086f3894107a79b5877f1aa6673"
            ],
            "layout": "IPY_MODEL_c8b48293528c474cbf0205ecc02d7bd0"
          }
        },
        "787a6faa9a214ee29dae10ef3f3f9a1a": {
          "model_module": "@jupyter-widgets/controls",
          "model_module_version": "1.5.0",
          "model_name": "DescriptionStyleModel",
          "state": {
            "_model_module": "@jupyter-widgets/controls",
            "_model_module_version": "1.5.0",
            "_model_name": "DescriptionStyleModel",
            "_view_count": null,
            "_view_module": "@jupyter-widgets/base",
            "_view_module_version": "1.2.0",
            "_view_name": "StyleView",
            "description_width": ""
          }
        },
        "7a9000c35f774a1eaf86dfad26154286": {
          "model_module": "@jupyter-widgets/base",
          "model_module_version": "1.2.0",
          "model_name": "LayoutModel",
          "state": {
            "_model_module": "@jupyter-widgets/base",
            "_model_module_version": "1.2.0",
            "_model_name": "LayoutModel",
            "_view_count": null,
            "_view_module": "@jupyter-widgets/base",
            "_view_module_version": "1.2.0",
            "_view_name": "LayoutView",
            "align_content": null,
            "align_items": null,
            "align_self": null,
            "border": null,
            "bottom": null,
            "display": null,
            "flex": null,
            "flex_flow": null,
            "grid_area": null,
            "grid_auto_columns": null,
            "grid_auto_flow": null,
            "grid_auto_rows": null,
            "grid_column": null,
            "grid_gap": null,
            "grid_row": null,
            "grid_template_areas": null,
            "grid_template_columns": null,
            "grid_template_rows": null,
            "height": null,
            "justify_content": null,
            "justify_items": null,
            "left": null,
            "margin": null,
            "max_height": null,
            "max_width": null,
            "min_height": null,
            "min_width": null,
            "object_fit": null,
            "object_position": null,
            "order": null,
            "overflow": null,
            "overflow_x": null,
            "overflow_y": null,
            "padding": null,
            "right": null,
            "top": null,
            "visibility": "hidden",
            "width": null
          }
        },
        "7ad2304fb0cd4bb094d4fef5209d75bf": {
          "model_module": "@jupyter-widgets/base",
          "model_module_version": "1.2.0",
          "model_name": "LayoutModel",
          "state": {
            "_model_module": "@jupyter-widgets/base",
            "_model_module_version": "1.2.0",
            "_model_name": "LayoutModel",
            "_view_count": null,
            "_view_module": "@jupyter-widgets/base",
            "_view_module_version": "1.2.0",
            "_view_name": "LayoutView",
            "align_content": null,
            "align_items": null,
            "align_self": null,
            "border": null,
            "bottom": null,
            "display": null,
            "flex": null,
            "flex_flow": null,
            "grid_area": null,
            "grid_auto_columns": null,
            "grid_auto_flow": null,
            "grid_auto_rows": null,
            "grid_column": null,
            "grid_gap": null,
            "grid_row": null,
            "grid_template_areas": null,
            "grid_template_columns": null,
            "grid_template_rows": null,
            "height": null,
            "justify_content": null,
            "justify_items": null,
            "left": null,
            "margin": null,
            "max_height": null,
            "max_width": null,
            "min_height": null,
            "min_width": null,
            "object_fit": null,
            "object_position": null,
            "order": null,
            "overflow": null,
            "overflow_x": null,
            "overflow_y": null,
            "padding": null,
            "right": null,
            "top": null,
            "visibility": null,
            "width": null
          }
        },
        "7ad8d6d3d5f84eeb84fc1efb67483182": {
          "model_module": "@jupyter-widgets/base",
          "model_module_version": "1.2.0",
          "model_name": "LayoutModel",
          "state": {
            "_model_module": "@jupyter-widgets/base",
            "_model_module_version": "1.2.0",
            "_model_name": "LayoutModel",
            "_view_count": null,
            "_view_module": "@jupyter-widgets/base",
            "_view_module_version": "1.2.0",
            "_view_name": "LayoutView",
            "align_content": null,
            "align_items": null,
            "align_self": null,
            "border": null,
            "bottom": null,
            "display": null,
            "flex": null,
            "flex_flow": null,
            "grid_area": null,
            "grid_auto_columns": null,
            "grid_auto_flow": null,
            "grid_auto_rows": null,
            "grid_column": null,
            "grid_gap": null,
            "grid_row": null,
            "grid_template_areas": null,
            "grid_template_columns": null,
            "grid_template_rows": null,
            "height": null,
            "justify_content": null,
            "justify_items": null,
            "left": null,
            "margin": null,
            "max_height": null,
            "max_width": null,
            "min_height": null,
            "min_width": null,
            "object_fit": null,
            "object_position": null,
            "order": null,
            "overflow": null,
            "overflow_x": null,
            "overflow_y": null,
            "padding": null,
            "right": null,
            "top": null,
            "visibility": null,
            "width": null
          }
        },
        "7d81e06916e14812994e2485db925e99": {
          "model_module": "@jupyter-widgets/controls",
          "model_module_version": "1.5.0",
          "model_name": "FloatProgressModel",
          "state": {
            "_dom_classes": [],
            "_model_module": "@jupyter-widgets/controls",
            "_model_module_version": "1.5.0",
            "_model_name": "FloatProgressModel",
            "_view_count": null,
            "_view_module": "@jupyter-widgets/controls",
            "_view_module_version": "1.5.0",
            "_view_name": "ProgressView",
            "bar_style": "",
            "description": "",
            "description_tooltip": null,
            "layout": "IPY_MODEL_7ad2304fb0cd4bb094d4fef5209d75bf",
            "max": 7,
            "min": 0,
            "orientation": "horizontal",
            "style": "IPY_MODEL_2fca4ef64bc24c27a8d7a092df800b1e",
            "value": 7
          }
        },
        "912fae0f922043f6b578d2aca806e234": {
          "model_module": "@jupyter-widgets/controls",
          "model_module_version": "1.5.0",
          "model_name": "HBoxModel",
          "state": {
            "_dom_classes": [],
            "_model_module": "@jupyter-widgets/controls",
            "_model_module_version": "1.5.0",
            "_model_name": "HBoxModel",
            "_view_count": null,
            "_view_module": "@jupyter-widgets/controls",
            "_view_module_version": "1.5.0",
            "_view_name": "HBoxView",
            "box_style": "",
            "children": [
              "IPY_MODEL_1ddcfb1c230648f393232458cfdd9b3e",
              "IPY_MODEL_7d81e06916e14812994e2485db925e99",
              "IPY_MODEL_29b60e9abf054dc583ef38c9383b8a1b"
            ],
            "layout": "IPY_MODEL_7a9000c35f774a1eaf86dfad26154286"
          }
        },
        "99123086f3894107a79b5877f1aa6673": {
          "model_module": "@jupyter-widgets/controls",
          "model_module_version": "1.5.0",
          "model_name": "HTMLModel",
          "state": {
            "_dom_classes": [],
            "_model_module": "@jupyter-widgets/controls",
            "_model_module_version": "1.5.0",
            "_model_name": "HTMLModel",
            "_view_count": null,
            "_view_module": "@jupyter-widgets/controls",
            "_view_module_version": "1.5.0",
            "_view_name": "HTMLView",
            "description": "",
            "description_tooltip": null,
            "layout": "IPY_MODEL_7ad8d6d3d5f84eeb84fc1efb67483182",
            "placeholder": "​",
            "style": "IPY_MODEL_c3dc3c3d97e547cd975b1f1e13685340",
            "value": " 65/65 [02:10&lt;00:00,  1.45s/it]"
          }
        },
        "993d56d456574a6086c47d0e5e94d23c": {
          "model_module": "@jupyter-widgets/controls",
          "model_module_version": "1.5.0",
          "model_name": "DescriptionStyleModel",
          "state": {
            "_model_module": "@jupyter-widgets/controls",
            "_model_module_version": "1.5.0",
            "_model_name": "DescriptionStyleModel",
            "_view_count": null,
            "_view_module": "@jupyter-widgets/base",
            "_view_module_version": "1.2.0",
            "_view_name": "StyleView",
            "description_width": ""
          }
        },
        "b5a17978f0944d9e8091cb470e7a8717": {
          "model_module": "@jupyter-widgets/base",
          "model_module_version": "1.2.0",
          "model_name": "LayoutModel",
          "state": {
            "_model_module": "@jupyter-widgets/base",
            "_model_module_version": "1.2.0",
            "_model_name": "LayoutModel",
            "_view_count": null,
            "_view_module": "@jupyter-widgets/base",
            "_view_module_version": "1.2.0",
            "_view_name": "LayoutView",
            "align_content": null,
            "align_items": null,
            "align_self": null,
            "border": null,
            "bottom": null,
            "display": null,
            "flex": null,
            "flex_flow": null,
            "grid_area": null,
            "grid_auto_columns": null,
            "grid_auto_flow": null,
            "grid_auto_rows": null,
            "grid_column": null,
            "grid_gap": null,
            "grid_row": null,
            "grid_template_areas": null,
            "grid_template_columns": null,
            "grid_template_rows": null,
            "height": null,
            "justify_content": null,
            "justify_items": null,
            "left": null,
            "margin": null,
            "max_height": null,
            "max_width": null,
            "min_height": null,
            "min_width": null,
            "object_fit": null,
            "object_position": null,
            "order": null,
            "overflow": null,
            "overflow_x": null,
            "overflow_y": null,
            "padding": null,
            "right": null,
            "top": null,
            "visibility": null,
            "width": null
          }
        },
        "c3dc3c3d97e547cd975b1f1e13685340": {
          "model_module": "@jupyter-widgets/controls",
          "model_module_version": "1.5.0",
          "model_name": "DescriptionStyleModel",
          "state": {
            "_model_module": "@jupyter-widgets/controls",
            "_model_module_version": "1.5.0",
            "_model_name": "DescriptionStyleModel",
            "_view_count": null,
            "_view_module": "@jupyter-widgets/base",
            "_view_module_version": "1.2.0",
            "_view_name": "StyleView",
            "description_width": ""
          }
        },
        "c5534299028349419abd5399c903139e": {
          "model_module": "@jupyter-widgets/controls",
          "model_module_version": "1.5.0",
          "model_name": "ProgressStyleModel",
          "state": {
            "_model_module": "@jupyter-widgets/controls",
            "_model_module_version": "1.5.0",
            "_model_name": "ProgressStyleModel",
            "_view_count": null,
            "_view_module": "@jupyter-widgets/base",
            "_view_module_version": "1.2.0",
            "_view_name": "StyleView",
            "bar_color": null,
            "description_width": ""
          }
        },
        "c8b48293528c474cbf0205ecc02d7bd0": {
          "model_module": "@jupyter-widgets/base",
          "model_module_version": "1.2.0",
          "model_name": "LayoutModel",
          "state": {
            "_model_module": "@jupyter-widgets/base",
            "_model_module_version": "1.2.0",
            "_model_name": "LayoutModel",
            "_view_count": null,
            "_view_module": "@jupyter-widgets/base",
            "_view_module_version": "1.2.0",
            "_view_name": "LayoutView",
            "align_content": null,
            "align_items": null,
            "align_self": null,
            "border": null,
            "bottom": null,
            "display": null,
            "flex": null,
            "flex_flow": null,
            "grid_area": null,
            "grid_auto_columns": null,
            "grid_auto_flow": null,
            "grid_auto_rows": null,
            "grid_column": null,
            "grid_gap": null,
            "grid_row": null,
            "grid_template_areas": null,
            "grid_template_columns": null,
            "grid_template_rows": null,
            "height": null,
            "justify_content": null,
            "justify_items": null,
            "left": null,
            "margin": null,
            "max_height": null,
            "max_width": null,
            "min_height": null,
            "min_width": null,
            "object_fit": null,
            "object_position": null,
            "order": null,
            "overflow": null,
            "overflow_x": null,
            "overflow_y": null,
            "padding": null,
            "right": null,
            "top": null,
            "visibility": "hidden",
            "width": null
          }
        },
        "f6ebff7f61934de2b98ab41440f55ed0": {
          "model_module": "@jupyter-widgets/base",
          "model_module_version": "1.2.0",
          "model_name": "LayoutModel",
          "state": {
            "_model_module": "@jupyter-widgets/base",
            "_model_module_version": "1.2.0",
            "_model_name": "LayoutModel",
            "_view_count": null,
            "_view_module": "@jupyter-widgets/base",
            "_view_module_version": "1.2.0",
            "_view_name": "LayoutView",
            "align_content": null,
            "align_items": null,
            "align_self": null,
            "border": null,
            "bottom": null,
            "display": null,
            "flex": null,
            "flex_flow": null,
            "grid_area": null,
            "grid_auto_columns": null,
            "grid_auto_flow": null,
            "grid_auto_rows": null,
            "grid_column": null,
            "grid_gap": null,
            "grid_row": null,
            "grid_template_areas": null,
            "grid_template_columns": null,
            "grid_template_rows": null,
            "height": null,
            "justify_content": null,
            "justify_items": null,
            "left": null,
            "margin": null,
            "max_height": null,
            "max_width": null,
            "min_height": null,
            "min_width": null,
            "object_fit": null,
            "object_position": null,
            "order": null,
            "overflow": null,
            "overflow_x": null,
            "overflow_y": null,
            "padding": null,
            "right": null,
            "top": null,
            "visibility": null,
            "width": null
          }
        },
        "f88eb252194f449f8d95d519a4ebd646": {
          "model_module": "@jupyter-widgets/base",
          "model_module_version": "1.2.0",
          "model_name": "LayoutModel",
          "state": {
            "_model_module": "@jupyter-widgets/base",
            "_model_module_version": "1.2.0",
            "_model_name": "LayoutModel",
            "_view_count": null,
            "_view_module": "@jupyter-widgets/base",
            "_view_module_version": "1.2.0",
            "_view_name": "LayoutView",
            "align_content": null,
            "align_items": null,
            "align_self": null,
            "border": null,
            "bottom": null,
            "display": null,
            "flex": null,
            "flex_flow": null,
            "grid_area": null,
            "grid_auto_columns": null,
            "grid_auto_flow": null,
            "grid_auto_rows": null,
            "grid_column": null,
            "grid_gap": null,
            "grid_row": null,
            "grid_template_areas": null,
            "grid_template_columns": null,
            "grid_template_rows": null,
            "height": null,
            "justify_content": null,
            "justify_items": null,
            "left": null,
            "margin": null,
            "max_height": null,
            "max_width": null,
            "min_height": null,
            "min_width": null,
            "object_fit": null,
            "object_position": null,
            "order": null,
            "overflow": null,
            "overflow_x": null,
            "overflow_y": null,
            "padding": null,
            "right": null,
            "top": null,
            "visibility": null,
            "width": null
          }
        }
      }
    }
  },
  "nbformat": 4,
  "nbformat_minor": 0
}
